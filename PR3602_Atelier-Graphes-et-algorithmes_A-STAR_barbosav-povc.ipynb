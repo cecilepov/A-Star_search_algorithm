{
 "cells": [
  {
   "cell_type": "markdown",
   "metadata": {},
   "source": [
    "# Atelier d'approfondissement en informatique\n",
    "***\n",
    "## Graphes et algorithmes A\\*  \n",
    "## E3 - PR3602"
   ]
  },
  {
   "cell_type": "markdown",
   "metadata": {},
   "source": [
    "**Professeur :** Michel COUPRIE  \n",
    "**Etudiants :** Vincent BARBOSA VAZ, Cécile POV  \n",
    "**ESIEE Paris** - **30/04/2018**"
   ]
  },
  {
   "cell_type": "markdown",
   "metadata": {},
   "source": [
    "<img src=\"img/image.jpeg\" style=\"width:500px; margin-left:0;\">"
   ]
  },
  {
   "cell_type": "markdown",
   "metadata": {},
   "source": [
    "<p style=\"font-size:9px;\"><span style=\"font-size:10px;\">Source : </span>https://medium.com/the-mission/what-is-the-algorithm-for-success-8d820ce167b0</p>"
   ]
  },
  {
   "cell_type": "markdown",
   "metadata": {},
   "source": [
    "# Avant-propos\n",
    "***\n",
    "Vous utilisez un notebook Jupyter. Un document executable et lisible pour les humains.  \n",
    "Le code et le texte sont écrits dans des cellules.\n",
    "- pour éditer une cellule, double-cliquez ;\n",
    "- pour executer une cellule, ctrl+entrée"
   ]
  },
  {
   "cell_type": "markdown",
   "metadata": {},
   "source": [
    "*Pour commencer, executez la cellule qui suit :*"
   ]
  },
  {
   "cell_type": "code",
   "execution_count": 1,
   "metadata": {},
   "outputs": [
    {
     "data": {
      "text/html": [
       "<style>\n",
       "em {\n",
       "    color: green;\n",
       "}\n",
       "strong {\n",
       "    color: rgb(53, 70, 180);\n",
       "}\n",
       "u {\n",
       "    text-decoration: underline;\n",
       "}\n",
       "</style>"
      ],
      "text/plain": [
       "<IPython.core.display.HTML object>"
      ]
     },
     "metadata": {},
     "output_type": "display_data"
    }
   ],
   "source": [
    "%%HTML\n",
    "<style>\n",
    "em {\n",
    "    color: green;\n",
    "}\n",
    "strong {\n",
    "    color: rgb(53, 70, 180);\n",
    "}\n",
    "u {\n",
    "    text-decoration: underline;\n",
    "}\n",
    "</style>"
   ]
  },
  {
   "cell_type": "markdown",
   "metadata": {},
   "source": [
    "**N.B. :** \n",
    "\n",
    "**Pour simplement visualiser le cours sans le générer manuellement,**\n",
    "- aller dans *Kernel*\n",
    "- puis cliquer sur *Restart & Run All*\n",
    "\n",
    "**Pour tester l'algorithme,**\n",
    "- executer tout le notebook (comme précédement)\n",
    "- puis aller directement à la section *Paramétrage et test de l'algorithme*"
   ]
  },
  {
   "cell_type": "markdown",
   "metadata": {},
   "source": [
    "# Sujet\n",
    "***\n",
    "Le problème que nous allons résoudre, connu sous le nom de problème de l'affectation, a de nombreuses applications en sciences de l'ingénieur. Voici l'une d'entre elles.\n",
    "\n",
    "Une administration nationale doit organiser la réaffectation de plusieurs dizaines de ses agents dans des centres répartis dans toute la France. Un nouveau poste doit être proposé à chacun de ces agents, et, en fonction de la personne et du poste, un coût a été calculé, tenant compte de l'indemnité de déménagement, des formations nécessaires, etc. Si N est le nombre d'agents à réaffecter (et donc aussi le nombre de postes), les résultats de ces calculs sont rangés dans une matrice NxN appelée C. Ainsi, C[i,j] représente le coût de l'affectation de l'agent i au poste j.\n",
    "\n",
    "Notre but est de décider d'une affectation pour chaque agent, de manière à minimiser globalement le coût total de l'opération."
   ]
  },
  {
   "cell_type": "markdown",
   "metadata": {},
   "source": [
    "![title](img/permut.jpg)"
   ]
  },
  {
   "cell_type": "markdown",
   "metadata": {},
   "source": [
    "## Algorithme naïf\n",
    "\n",
    "Un premier algorithme consiste à considérer toutes les affectations possibles et à choisir la moins coûteuse. Combien y en a-t-il ? Si l'on suppose qu'une affectation peut être évaluée en une microseconde, et que l'on dispose de trois mois pour faire le calcul, quelle est la valeur maximum de N possible pour envisager d'appliquer cette méthode ?"
   ]
  },
  {
   "cell_type": "markdown",
   "metadata": {},
   "source": [
    "**Nombre de solutions possibles :**  \n",
    "Dans le cas du problème de l'affectation et pour une matrice $N \\times N$,  \n",
    "- le premier agent peut être affecté à N postes ;\n",
    "- le second agent peut être affecté à N-1 postes ;\n",
    "- [...]  \n",
    "\n",
    "Il y a donc <u>N! solutions possibles</u>."
   ]
  },
  {
   "cell_type": "markdown",
   "metadata": {},
   "source": [
    "**Valeur maximum de N possible :**  \n",
    "Pour une durée de calcul de 3 mois,  \n",
    "- trois mois : $3 \\times 31 \\times 24 \\times 60 \\times 60 \\times 10^{6} \\approx 8 \\times 10^{12} \\mu s $ ;\n",
    "- la factorielle immédiatement inférieure ou égale à cette valeur est 15!\n",
    "    - $15! \\approx 1 \\times 10^{12}$  \n",
    "    - $16! \\approx 2 \\times 10^{13}$  \n",
    "\n",
    "<u>Valeur de N possible maximale</u> : 15  \n",
    "Il n'est donc pas envisageable d'appliquer cette méthode pour résoudre ce problème."
   ]
  },
  {
   "cell_type": "markdown",
   "metadata": {},
   "source": [
    "**Automatisation du calcul**  \n",
    "On se pose la question dans le cas général de l'efficacité de cette méthode.  \n",
    "Cette fois-ci on estime que <u>l'affectation est prise au sens local de l'algorithme</u>,  \n",
    "c'est à dire une étape dans la recherche de la solution finale, soit un noeud du graphe complet."
   ]
  },
  {
   "cell_type": "markdown",
   "metadata": {},
   "source": [
    "Ci-dessous un premier algorithme qui détermine le nombre de noeuds d'un GRP de niveau n, passé en paramètre."
   ]
  },
  {
   "cell_type": "code",
   "execution_count": 2,
   "metadata": {},
   "outputs": [
    {
     "name": "stdout",
     "output_type": "stream",
     "text": [
      "Nombre de noeuds pour une matrice 16X16 = 56874039553217\n"
     ]
    }
   ],
   "source": [
    "# Utilisation de l'algorithme, modifier le(s) paramètre(s)\n",
    "param = 16 # nombre d'agents à affecter\n",
    "\n",
    "#----------------------------\n",
    "def nodeGRP(n):\n",
    "    # n : niveaux de l'arbre, nombre d'affectations\n",
    "    P = 1 # racine de l'arbre, noeud initial\n",
    "    S = n # nombre de noeuds successeurs\n",
    "    \n",
    "    #print(\"P %d S %d\" % (P, S))\n",
    "    for i in range(n, 0, -1): # on décompose chaque noeud\n",
    "        P += S\n",
    "        S = S*(i-1)\n",
    "        #print(\"P %d S %d\" % (P, S))\n",
    "    return P\n",
    "\n",
    "print(\"Nombre de noeuds pour une matrice {n}X{n} = {s}\".format(n=param, s=nodeGRP(param)))"
   ]
  },
  {
   "cell_type": "markdown",
   "metadata": {},
   "source": [
    "nodeGRP(2) : 5  \n",
    "nodeGRP(3) : 16  \n",
    "nodeGRP(4) : 65  \n",
    "nodeGRP(10) : 9864101  \n",
    "nodeGRP(15) : 3554627472076  "
   ]
  },
  {
   "cell_type": "markdown",
   "metadata": {},
   "source": [
    "On voit que le nombre de noeuds croit très rapidement ! L'idée d'explorer tout le graphe parait vite inimaginable."
   ]
  },
  {
   "cell_type": "markdown",
   "metadata": {},
   "source": [
    "Ci-dessous un second algorithme qui va lancer itérativement le premier algorithme en comparant le nombre de noeuds retournés à une limite. Cette limite représente le nombre d'instructions maximal executables par l'algorithme pour une période donnée. L'algorithme retourne la profondeur maximale du GRP pouvant être exploré entièrement."
   ]
  },
  {
   "cell_type": "code",
   "execution_count": 3,
   "metadata": {},
   "outputs": [
    {
     "name": "stdout",
     "output_type": "stream",
     "text": [
      "Nombre d'instructions par seconde : 1000000\n",
      "Durée de calcul : 8035200s\n",
      "Nombre d'instructions réalisables : 8035200000000\n",
      "Valeur maximale de N possible : 16\n"
     ]
    }
   ],
   "source": [
    "# Utilisation de l'algorithme, modifier le(s) paramètre(s)\n",
    "speed = 1000000 # nombre d'instructions réalisées en 1 seconde\n",
    "time = 3*31*24*60*60 # durée de calcul en seconde\n",
    "num_instructions = time*speed # nombre d'instructions réalisables dans le temps imparti\n",
    "\n",
    "#----------------------------\n",
    "def maxN(num_instructions):\n",
    "    n = 0\n",
    "    while(nodeGRP(n) <= num_instructions): # tant que l'on peut encore effectuer des instructions\n",
    "        #print(\"n\",n)\n",
    "        #print(\"taille\",nodeGRP(n))\n",
    "        #print(\"num_instructions\",num_instructions)\n",
    "        #print(\"\")\n",
    "        n+=1\n",
    "    return n\n",
    "print(\"Nombre d'instructions par seconde :\", speed)\n",
    "print(\"Durée de calcul : {t}s\".format(t=time))\n",
    "print(\"Nombre d'instructions réalisables :\", num_instructions)\n",
    "print(\"Valeur maximale de N possible :\", maxN(num_instructions))"
   ]
  },
  {
   "cell_type": "markdown",
   "metadata": {},
   "source": [
    "Pour un algorithme dont la performance a été donné dans les consignes, en trois mois de calcul sans interruptions avec une vitesse de calcul d'une instruction par microseconde, seulement 16 affectations au maximum sont possibles ! Le résultat est assez surprenant au vu de la vitesse de calcul cependant, il ne faut pas négliger la taille extravagante que peut prendre un GRP, et donc toutes les possibilités à comparer dans le cas d'un algorithme naïf."
   ]
  },
  {
   "cell_type": "markdown",
   "metadata": {},
   "source": [
    "## Algorithme Glouton  \n",
    "On considère maintenant l'algorithme suivant :  \n",
    "\n",
    "- choisir la valeur minimale de la matrice C ;\n",
    "- réaliser l'affectation correspondante ;\n",
    "- retirer la ligne et la colonne contenant cette valeur ;\n",
    "- et recommencer.  \n",
    "\n",
    "Ce type d'algorithme s'appelle un algorithme glouton. Montrez par un contre-exemple simple que l'algorithme glouton ne trouve pas toujours à la solution optimale pour ce problème, et peut même donner un résultat arbitrairement éloigné de la solution optimale."
   ]
  },
  {
   "cell_type": "markdown",
   "metadata": {},
   "source": [
    "Soit les matrices de coûts suivantes : matrice initiale, solution gloutonne et solution optimale."
   ]
  },
  {
   "cell_type": "markdown",
   "metadata": {},
   "source": [
    "$$\n",
    "\\begin{bmatrix}\n",
    "    5 & 3 & 1 \\\\\n",
    "    4 & 2 & 6 \\\\\n",
    "    0 & 200 & 0 \n",
    "  \\end{bmatrix}\n",
    "~\n",
    "\\begin{bmatrix}\n",
    "    5 & 3 & \\color{red}{1} \\\\\n",
    "    \\color{red}{0} & 1 & 6 \\\\\n",
    "    0 & \\color{red}{200} & 0 \n",
    "  \\end{bmatrix}\n",
    "~\n",
    "\\begin{bmatrix}\n",
    "    5 & 3 & \\color{green}{1} \\\\\n",
    "    4 & \\color{green}{2} & 6 \\\\\n",
    "    \\color{green}{0} & 200 & 0 \n",
    "  \\end{bmatrix}\n",
    "$$  \n",
    "$$Initiale~-~Gloutonne~-~Optimale$$"
   ]
  },
  {
   "cell_type": "markdown",
   "metadata": {},
   "source": [
    "On remarque que l'algorithme glouton à fait des choix **optimums locaux** :  \n",
    "- le coût d'affectation le plus faible pour la ligne 1 est 1 ;\n",
    "- pour la ligne 2 : 0 ;\n",
    "- pour la ligne 3 : 200 puisque les coûts de valeur 0 ne sont plus disponibles.  \n",
    "\n",
    "Le score pour l'algorithme glouton est de $1+0+200 =$ *$201$*  \n",
    "Le score pour la solution optimale est de $1+2+0 =$ *$3$*  \n",
    "\n",
    "Dans certains cas cette approche permet d'arriver à un optimum global, mais dans le cas général c'est une heuristique.  \n",
    "**En choisissant localement la meilleure solution, l'algorithme glouton n'a pas trouvé la solution optimale.**"
   ]
  },
  {
   "cell_type": "markdown",
   "metadata": {},
   "source": [
    "# Notions essentielles\n",
    "***\n",
    "Avant d'aborder l'atelier, et au terme de votre préparation, vous devez être en mesure de répondre correctement aux questions suivantes :\n",
    "\n",
    "- Qu'est-ce qu'un Graphe de Résolution de Problème (GRP), relativement à un problème donné ?\n",
    "- Quel GRP proposeriez-vous pour le problème de l'affectation ?\n",
    "- Quel est, schématiquement, le fonctionnement d'un algorithme A\\* ?\n",
    "- Que représentent les symboles g, h et f dans l'algorithme ?\n",
    "- Quelle est la condition sur h pour que l'on parle d'algorithme A\\* ?"
   ]
  },
  {
   "cell_type": "markdown",
   "metadata": {},
   "source": [
    "### Rappels"
   ]
  },
  {
   "cell_type": "markdown",
   "metadata": {},
   "source": [
    "<img src=\"img/graphe.png\" style=\"width:500px; margin-left:0;\">"
   ]
  },
  {
   "cell_type": "markdown",
   "metadata": {},
   "source": [
    "### Qu'est-ce qu'un Graphe de Résolution de Problème (GRP), relativement à un problème donné ?"
   ]
  },
  {
   "cell_type": "markdown",
   "metadata": {},
   "source": [
    "Un GRP est une modélisation d'un problème sous forme de graphe.\n",
    "\n",
    "**Propriétés d'un GRP :**\n",
    "\n",
    "- un graphe connexe et sans cycle : une arborescence ;\n",
    "- les sommets sont les états possibles du problème ;\n",
    "- il existe une arc u = (i, j) dans le graphe si une règle permet de passer de l’état i à l’état j ;\n",
    "- on associe un coût c(u) à cet arc ;\n",
    "- on distingue l’état initial et les états finaux ;\n",
    "- un chemin de l’état initial à un état final constitue une solution au problème."
   ]
  },
  {
   "cell_type": "markdown",
   "metadata": {},
   "source": [
    "### Quel GRP proposeriez-vous pour le problème de l'affectation ?"
   ]
  },
  {
   "cell_type": "markdown",
   "metadata": {},
   "source": [
    "<img src=\"img/grp.png\" style=\"width:500px; margin-left:0;\">"
   ]
  },
  {
   "cell_type": "markdown",
   "metadata": {},
   "source": [
    "- chaque sommet représente un état du système : l'affectation des agents aux postes ;\n",
    "- sommet initial : aucun agent n'est affecté à un poste ;\n",
    "- sommet finaux (les buts possibles) : tout agent est affecté à un poste unique."
   ]
  },
  {
   "cell_type": "markdown",
   "metadata": {},
   "source": [
    "### Quel est, schématiquement, le fonctionnement d'un algorithme A\\* ?"
   ]
  },
  {
   "cell_type": "markdown",
   "metadata": {},
   "source": [
    "Soit :\n",
    "- G : un graphe de recherche qui consiste uniquement en un sommet de départ d\n",
    "- OUVERT : une liste contenant les sommets découverts et non développés  \n",
    "(les noeuds dans OUVERT sont les feuilles de l'arbre de recherche)\n",
    "- FERME : une liste contenant les sommets découverts et développés  \n",
    "(les noeuds dans FERME sont les autres noeuds)\n",
    "\n",
    "\n",
    "Boucle de l'algorithme :\n",
    "- Tantque OUVERT non vide\n",
    "- On sélectionne le premier sommet de la liste OUVERT que l'on met dans FERME et que l'on appelle n\n",
    "- Si n est un sommet but, FIN : solution optimale trouvée\n",
    "- Sinon on développe n, produisant l’ensemble M de ses successeurs que l'on memorise comme successeurs de n dans G\n",
    "- On réordonne la liste OUVERT, soit arbitrairement, soit selon des heuristiques\n"
   ]
  },
  {
   "cell_type": "markdown",
   "metadata": {},
   "source": [
    "### Que représentent les symboles g, h et f dans l'algorithme ?"
   ]
  },
  {
   "cell_type": "markdown",
   "metadata": {},
   "source": [
    "Soit n, un sommet pris au hasard dans le GRP, dans l’algorithme, on a :\n",
    "\n",
    "- d représente le sommet initial ;\n",
    "- g estime le coût d’un chemin optimal de d au sommet n ;\n",
    "- h estime le coût d’un chemin optimal de n à un but : c'est la fonction heuristique choisie ;\n",
    "- f représente la fonction d’évaluation ;\n",
    "- f(n) estime le coût d’un chemin optimal de d à un but passant par n.\n",
    "\n",
    "L’application f peut se mettre sous la forme :\n",
    "\n",
    "\n",
    "$$f(n) = g(n) + h(n)$$"
   ]
  },
  {
   "cell_type": "markdown",
   "metadata": {},
   "source": [
    "### Quelle est la condition sur h pour que l'on parle d'algorithme A\\* ?"
   ]
  },
  {
   "cell_type": "markdown",
   "metadata": {},
   "source": [
    "On parle d’algorithme A\\* si, pour tout sommet n :\n",
    "$$h(n) \\le h(n^{*})$$\n",
    "\n",
    "Autrement dit, que l’algorithme trouve un chemin optimal du sommet initial à un but."
   ]
  },
  {
   "cell_type": "markdown",
   "metadata": {},
   "source": [
    "# Heuristiques\n",
    "***"
   ]
  },
  {
   "cell_type": "markdown",
   "metadata": {},
   "source": [
    "## Heuristique nulle : $h_0(n)$"
   ]
  },
  {
   "cell_type": "markdown",
   "metadata": {},
   "source": [
    "$$h_0(n) = 0$$"
   ]
  },
  {
   "cell_type": "markdown",
   "metadata": {},
   "source": [
    "C'est l'heuristique triviale. Le coût estimé pour chaque sommet est nul. Autrement dit, on estime très mal le coût d'un chemin optimal de n à un but.\n",
    "\n",
    "Ceci dit il s'agit toujours d'un algorithme A\\* puisque :\n",
    "$$h_0(n) = 0$$  \n",
    "$$0 \\le h(n^{*})$$  \n",
    "$$h_0(n) \\le h(n^{*})$$  \n",
    "\n",
    "C'est l'algorithme de Djisktra."
   ]
  },
  {
   "cell_type": "markdown",
   "metadata": {},
   "source": [
    "## Heuristique $h_1(n)$ : nombre d'affectations restantes"
   ]
  },
  {
   "cell_type": "markdown",
   "metadata": {},
   "source": [
    "$$h_1(n) = nombre~d'affectations~restantes~(si~coût >= 1)$$"
   ]
  },
  {
   "cell_type": "markdown",
   "metadata": {},
   "source": [
    "Pour chaque noeud n, l'estimation $h_1(n)$ correspond aux nombres d'affectations restantes, c'est à dire le nombre d'affectation avant d'atteindre un sommet but."
   ]
  },
  {
   "cell_type": "markdown",
   "metadata": {},
   "source": [
    "<img src=\"img/1.png\" style=\"width:400px;\">"
   ]
  },
  {
   "cell_type": "markdown",
   "metadata": {},
   "source": [
    "Cette heuristique fonctionne dans le cas où :  \n",
    "- les coûts sont $\\ge 1$ <sup>*1*</sup>\n",
    "- les coûts sont des entiers <sup>*2*</sup>\n",
    "\n",
    "*1* : en effet pour respecter la condition $h(n) \\le h(n^{*})$. Si les coûts sont inférieurs à 1 on peut surestimer la valeur d'un chemin menant à un but.  \n",
    "*2* : imaginons une matrice de coûts de flottants compris entre 1 et 2, les estimations ne prendront pas en compte la différence de coup \"decimale\" et donc l'heuristique équivaut à l'heuristique nulle."
   ]
  },
  {
   "cell_type": "markdown",
   "metadata": {},
   "source": [
    "## Heuristique $h_2(n)$ : coût minimum"
   ]
  },
  {
   "cell_type": "markdown",
   "metadata": {},
   "source": [
    "$$h_2(n) = min~des~coûts~restants$$"
   ]
  },
  {
   "cell_type": "markdown",
   "metadata": {},
   "source": [
    "**Principe :**  \n",
    "L'estimation h(n) d'un noeud à un but correspond au minimum des coûts restants<sup>*1*</sup>.  \n",
    "*1* : les coûts restants correspondent aux coûts associés aux affectations non réalisées.  \n",
    "\n",
    "En utilisant le coût minimum on s'assure de conserver la condition suivante $h(n) \\le h(n^{*})$ tout en améliorant notre estimation en comparaison des heuristiques $h_0(n)$ et $h_1(n)$. En effet, on ne peut surestimer notre évaluation puisqu'on choisi toujours le minimum."
   ]
  },
  {
   "cell_type": "markdown",
   "metadata": {},
   "source": [
    "**Illustration de l'algorithme :**  \n",
    "<img src=\"img/h2.png\" style=\"width:600px; margin-left:0;\">"
   ]
  },
  {
   "cell_type": "markdown",
   "metadata": {},
   "source": [
    "*N.B.* On est passé d'un problème de taille exponentielle à linéaire."
   ]
  },
  {
   "cell_type": "markdown",
   "metadata": {},
   "source": [
    "## Heuristique $h_3(n)$ : somme des coûts minimum restants (par ligne)"
   ]
  },
  {
   "cell_type": "markdown",
   "metadata": {},
   "source": [
    "$$h_3(n) = somme~des~coûts~minimum~restants~par~ligne$$"
   ]
  },
  {
   "cell_type": "markdown",
   "metadata": {},
   "source": [
    "**Principe :**  \n",
    "L'estimation h(n) d'un noeud à un but correspond à la somme des coûts minimums restants<sup>*1*</sup> par ligne<sup>*2*</sup>.  \n",
    "*1* : les coûts restants correspondent aux coûts associés aux affectations non réalisées.  \n",
    "*2* : par ligne puisqu'on somme les coûts minimums pour chaque ligne de la matrice des coûts.  \n",
    "\n",
    "On notera qu'en réalisant cette somme <u>on ne se soucie pas des contraintes d'unicité</u><sup>*3*</sup> d'affectation.  \n",
    "*3* : si l'on ne s'autorise pas à prendre en compte les coûts des affectations réalisées, on peut dans cette somme utiliser des coûts affectant deux agents au même poste (lignes différentes mais même colonne)."
   ]
  },
  {
   "cell_type": "markdown",
   "metadata": {},
   "source": [
    "**Illustration de l'algorithme :**  \n",
    "\n",
    "<img src=\"img/h3.png\" style=\"width:600px; margin-left:0;\">"
   ]
  },
  {
   "cell_type": "markdown",
   "metadata": {},
   "source": [
    "## Heuristique $h_4(n)$ : somme des coûts minimum restants (par colonne)"
   ]
  },
  {
   "cell_type": "markdown",
   "metadata": {},
   "source": [
    "$$h_4(n) = somme~des~coûts~minimum~restants~par~colonne$$"
   ]
  },
  {
   "cell_type": "markdown",
   "metadata": {},
   "source": [
    "**Principe :**  \n",
    "Le principe est le même que pour l'heuristique $h_3(n)$ à la différence que la somme se fait par colonne."
   ]
  },
  {
   "cell_type": "markdown",
   "metadata": {},
   "source": [
    "## Heuristique $h_5(n)$ : meilleure estimation de la somme des coûts minimum (lignes et colonnes)"
   ]
  },
  {
   "cell_type": "markdown",
   "metadata": {},
   "source": [
    "$$h_5(n) = max(h_3(n),~h_4(n))$$"
   ]
  },
  {
   "cell_type": "markdown",
   "metadata": {},
   "source": [
    "**Principe :**  \n",
    "L'estimation $h(n)$ d'un noeud à un but correspond au maximum des deux heuristiques $h_3(n)$ et $h_4(n)$.  \n",
    "\n",
    "On a : \n",
    "$$\\forall n, h_3(n) \\le h(n)^{*}$$\n",
    "$$\\forall n, h_4(n) \\le h(n)^{*}$$\n",
    "\n",
    "Donc :\n",
    "$$max(h_3(n),~h_4(n)) \\le h(n)^{*}$$\n",
    "$$h_5(n) \\le h(n)^{*}$$  \n",
    "\n",
    "On a amélioré notre estimation locale en prenant la valeur la plus élevée (donc plus proche du coût réel) entre les heuristiques $h_3(n)$ (par ligne) et $h_4(n)$ (par colonne)."
   ]
  },
  {
   "cell_type": "markdown",
   "metadata": {},
   "source": [
    "## Comparaison des heuristiques"
   ]
  },
  {
   "cell_type": "markdown",
   "metadata": {},
   "source": [
    "$$\\color{blue}{h_0(n) \\le h_1(n) \\le} \\color{green}{h_2(n) \\le h_3(n) \\le h_4(n) \\le} \\color{red}{h_5(n) \\le h^{*}(n)}$$"
   ]
  },
  {
   "cell_type": "markdown",
   "metadata": {},
   "source": [
    "**L'heuristique nulle $h_0(n)$ et $h_1(n)$ qui utilise le nombre d'affectations restantes sont les moins pertinentes :**\n",
    "\n",
    "- $h_0(n)$ est une procédure aveugle et n'exploite aucune pseudo intelligence dans la recherche de la meilleure solution ;\n",
    "- $h_1(n)$ a pour défaut de comparer des entiers à des coûts qui peuvent être flottants. Il faudrait normalisés les valeurs ce qui n'est pas pertinent dans des applications manipulant un grand nombre de données ou pour lesquelles la rapiditié de réponse prime sur l'exactitude de la solution.\n",
    "\n",
    "**Un cap important est franchi en terme de performances avec les heuristiques $h_2(n)$, $h_3(n)$ et $h_4(n)$ :**\n",
    "\n",
    "- on passe d'un problème de taille exponentielle à linéaire. De plus, on exploite les données fournies avec des estimations très pertinentes.\n",
    "\n",
    "**La dernière heuristiques $h_5(n)$ est particulière puisqu'elle utilise deux heuristiques afin d'affiner l'estimation :**\n",
    "\n",
    "- cette heuristique à l'avantage d'apporter une précision supplémentaire à chaque étape de l'algorithme et donc peut réduire sensiblement des recherches inutiles et arriver à la solution plus rapidement. Toutefois elle met en oeuvre deux heuristiques et multiplie par deux le temps de calcul localement. Une analyse des performance nous dira dans quelles situations son utilisation est recommandée."
   ]
  },
  {
   "cell_type": "markdown",
   "metadata": {},
   "source": [
    "# Programme\n",
    "***"
   ]
  },
  {
   "cell_type": "markdown",
   "metadata": {},
   "source": [
    "Dans cette partie, nous allons implémenter l'algorithme A-Star précédemment décrit pour résoudre le problème de l'affectation proposé."
   ]
  },
  {
   "cell_type": "markdown",
   "metadata": {},
   "source": [
    "## Génération des matrices et variables de test"
   ]
  },
  {
   "cell_type": "markdown",
   "metadata": {},
   "source": [
    "Dans un premier temps, importons les bibliothèques qui seront nécessaires à l'exécution du programme :"
   ]
  },
  {
   "cell_type": "code",
   "execution_count": 4,
   "metadata": {},
   "outputs": [],
   "source": [
    "# On fait les imports nécessaires\n",
    "import numpy as np # librairie mathématique permettant de manipuler des vecteurs, matrices et polynômes\n",
    "import random # générateur de nombre pseudo-aléatoires\n",
    "import math # fonctions mathématiques définies par le standard C\n",
    "import pprint # rendu «pretty-print» des structures de données\n",
    "import time # fonctions relatives au temps, pour évaluer la durée d'un programme par exemple\n",
    "import pandas as pd # manipuler facilement des données à analyser\n",
    "from IPython.core.display import display # rendus visuels améliorés"
   ]
  },
  {
   "cell_type": "markdown",
   "metadata": {},
   "source": [
    "Pour tester le bon fonctionnement des heuristiques, on prendra pour matrice de test la matrice suivante :"
   ]
  },
  {
   "cell_type": "code",
   "execution_count": 5,
   "metadata": {},
   "outputs": [
    {
     "name": "stdout",
     "output_type": "stream",
     "text": [
      "Matrice de test :\n"
     ]
    },
    {
     "data": {
      "text/html": [
       "<div>\n",
       "<style scoped>\n",
       "    .dataframe tbody tr th:only-of-type {\n",
       "        vertical-align: middle;\n",
       "    }\n",
       "\n",
       "    .dataframe tbody tr th {\n",
       "        vertical-align: top;\n",
       "    }\n",
       "\n",
       "    .dataframe thead th {\n",
       "        text-align: right;\n",
       "    }\n",
       "</style>\n",
       "<table border=\"1\" class=\"dataframe\">\n",
       "  <thead>\n",
       "    <tr style=\"text-align: right;\">\n",
       "      <th></th>\n",
       "      <th>job n°0</th>\n",
       "      <th>job n°1</th>\n",
       "      <th>job n°2</th>\n",
       "    </tr>\n",
       "  </thead>\n",
       "  <tbody>\n",
       "    <tr>\n",
       "      <th>agent n°0</th>\n",
       "      <td>7</td>\n",
       "      <td>8</td>\n",
       "      <td>10</td>\n",
       "    </tr>\n",
       "    <tr>\n",
       "      <th>agent n°1</th>\n",
       "      <td>20</td>\n",
       "      <td>5</td>\n",
       "      <td>3</td>\n",
       "    </tr>\n",
       "    <tr>\n",
       "      <th>agent n°2</th>\n",
       "      <td>6</td>\n",
       "      <td>4</td>\n",
       "      <td>2</td>\n",
       "    </tr>\n",
       "  </tbody>\n",
       "</table>\n",
       "</div>"
      ],
      "text/plain": [
       "           job n°0  job n°1  job n°2\n",
       "agent n°0        7        8       10\n",
       "agent n°1       20        5        3\n",
       "agent n°2        6        4        2"
      ]
     },
     "metadata": {},
     "output_type": "display_data"
    }
   ],
   "source": [
    "m_test = [[7,8,10],\n",
    "          [20,5,3],\n",
    "          [6,4,2]]\n",
    "\n",
    "print(\"Matrice de test :\")\n",
    "df_m_test = pd.DataFrame(m_test).rename(index={0:'agent n°0', 1:'agent n°1', 2:'agent n°2'}) \\\n",
    "                                .rename(columns={0:'job n°0', 1:'job n°1', 2:'job n°2'})\n",
    "display(df_m_test)"
   ]
  },
  {
   "cell_type": "markdown",
   "metadata": {},
   "source": [
    "Pour chaque heuristique, on vérifiera la cohérence des résultats obtenus avec le programme et en exécutant l'algorithme \"à la main\"."
   ]
  },
  {
   "cell_type": "markdown",
   "metadata": {},
   "source": [
    "Nous lancerons également l'algorithme sur plusieurs matrices de coûts générées aléatoirement.  \n",
    "La fonction suivante, random_matrix, nous permettra de retourner une matrice ayant les caractéristiques saisies en paramètre  par l'utilisateur."
   ]
  },
  {
   "cell_type": "code",
   "execution_count": 6,
   "metadata": {},
   "outputs": [],
   "source": [
    "def random_matrix(type, size, bottom_range, top_range):\n",
    "    \"\"\"\n",
    "    Cette fonction crée une matrice carrée ayant les propriétés passées en paramètres.\n",
    "    \n",
    "    Parametres\n",
    "    ----------\n",
    "    type : string\n",
    "        'float' ou 'int', type des valeurs contenues dans la matrice\n",
    "    size : int\n",
    "        dimension de la matrice\n",
    "    bottom_range : int\n",
    "        borne inférieure de l'intervalle des valeurs\n",
    "    top_range : int\n",
    "        borne supérieure de l'intervalle des valeurs\n",
    "        \n",
    "    Retourne\n",
    "    --------\n",
    "    numpy.ndarray\n",
    "        une matrice carrée.        \n",
    "    \"\"\"\n",
    "    if type == 'int':\n",
    "        return np.random.randint(bottom_range, top_range, (size, size))\n",
    "    elif type == 'float':\n",
    "        return np.random.uniform(bottom_range, top_range,(size, size))"
   ]
  },
  {
   "cell_type": "markdown",
   "metadata": {},
   "source": [
    "Créons 2 matrices aléatoires pour tester notre fonction :"
   ]
  },
  {
   "cell_type": "code",
   "execution_count": 7,
   "metadata": {},
   "outputs": [
    {
     "data": {
      "text/html": [
       "<div>\n",
       "<style scoped>\n",
       "    .dataframe tbody tr th:only-of-type {\n",
       "        vertical-align: middle;\n",
       "    }\n",
       "\n",
       "    .dataframe tbody tr th {\n",
       "        vertical-align: top;\n",
       "    }\n",
       "\n",
       "    .dataframe thead th {\n",
       "        text-align: right;\n",
       "    }\n",
       "</style>\n",
       "<table border=\"1\" class=\"dataframe\">\n",
       "  <thead>\n",
       "    <tr style=\"text-align: right;\">\n",
       "      <th></th>\n",
       "      <th>0</th>\n",
       "      <th>1</th>\n",
       "      <th>2</th>\n",
       "    </tr>\n",
       "  </thead>\n",
       "  <tbody>\n",
       "    <tr>\n",
       "      <th>0</th>\n",
       "      <td>8.478732</td>\n",
       "      <td>3.175644</td>\n",
       "      <td>0.26778</td>\n",
       "    </tr>\n",
       "    <tr>\n",
       "      <th>1</th>\n",
       "      <td>2.375244</td>\n",
       "      <td>0.919639</td>\n",
       "      <td>0.64118</td>\n",
       "    </tr>\n",
       "    <tr>\n",
       "      <th>2</th>\n",
       "      <td>7.512194</td>\n",
       "      <td>2.514895</td>\n",
       "      <td>3.56185</td>\n",
       "    </tr>\n",
       "  </tbody>\n",
       "</table>\n",
       "</div>"
      ],
      "text/plain": [
       "          0         1        2\n",
       "0  8.478732  3.175644  0.26778\n",
       "1  2.375244  0.919639  0.64118\n",
       "2  7.512194  2.514895  3.56185"
      ]
     },
     "metadata": {},
     "output_type": "display_data"
    },
    {
     "data": {
      "text/html": [
       "<div>\n",
       "<style scoped>\n",
       "    .dataframe tbody tr th:only-of-type {\n",
       "        vertical-align: middle;\n",
       "    }\n",
       "\n",
       "    .dataframe tbody tr th {\n",
       "        vertical-align: top;\n",
       "    }\n",
       "\n",
       "    .dataframe thead th {\n",
       "        text-align: right;\n",
       "    }\n",
       "</style>\n",
       "<table border=\"1\" class=\"dataframe\">\n",
       "  <thead>\n",
       "    <tr style=\"text-align: right;\">\n",
       "      <th></th>\n",
       "      <th>0</th>\n",
       "      <th>1</th>\n",
       "      <th>2</th>\n",
       "      <th>3</th>\n",
       "      <th>4</th>\n",
       "      <th>5</th>\n",
       "      <th>6</th>\n",
       "      <th>7</th>\n",
       "      <th>8</th>\n",
       "      <th>9</th>\n",
       "    </tr>\n",
       "  </thead>\n",
       "  <tbody>\n",
       "    <tr>\n",
       "      <th>0</th>\n",
       "      <td>75</td>\n",
       "      <td>68</td>\n",
       "      <td>44</td>\n",
       "      <td>5</td>\n",
       "      <td>73</td>\n",
       "      <td>84</td>\n",
       "      <td>50</td>\n",
       "      <td>99</td>\n",
       "      <td>80</td>\n",
       "      <td>11</td>\n",
       "    </tr>\n",
       "    <tr>\n",
       "      <th>1</th>\n",
       "      <td>79</td>\n",
       "      <td>43</td>\n",
       "      <td>40</td>\n",
       "      <td>30</td>\n",
       "      <td>91</td>\n",
       "      <td>61</td>\n",
       "      <td>3</td>\n",
       "      <td>27</td>\n",
       "      <td>48</td>\n",
       "      <td>93</td>\n",
       "    </tr>\n",
       "    <tr>\n",
       "      <th>2</th>\n",
       "      <td>84</td>\n",
       "      <td>50</td>\n",
       "      <td>75</td>\n",
       "      <td>83</td>\n",
       "      <td>23</td>\n",
       "      <td>57</td>\n",
       "      <td>67</td>\n",
       "      <td>70</td>\n",
       "      <td>44</td>\n",
       "      <td>21</td>\n",
       "    </tr>\n",
       "    <tr>\n",
       "      <th>3</th>\n",
       "      <td>71</td>\n",
       "      <td>62</td>\n",
       "      <td>76</td>\n",
       "      <td>91</td>\n",
       "      <td>49</td>\n",
       "      <td>22</td>\n",
       "      <td>13</td>\n",
       "      <td>51</td>\n",
       "      <td>13</td>\n",
       "      <td>27</td>\n",
       "    </tr>\n",
       "    <tr>\n",
       "      <th>4</th>\n",
       "      <td>1</td>\n",
       "      <td>66</td>\n",
       "      <td>80</td>\n",
       "      <td>89</td>\n",
       "      <td>42</td>\n",
       "      <td>93</td>\n",
       "      <td>45</td>\n",
       "      <td>71</td>\n",
       "      <td>16</td>\n",
       "      <td>51</td>\n",
       "    </tr>\n",
       "    <tr>\n",
       "      <th>5</th>\n",
       "      <td>87</td>\n",
       "      <td>32</td>\n",
       "      <td>79</td>\n",
       "      <td>33</td>\n",
       "      <td>72</td>\n",
       "      <td>2</td>\n",
       "      <td>22</td>\n",
       "      <td>80</td>\n",
       "      <td>55</td>\n",
       "      <td>15</td>\n",
       "    </tr>\n",
       "    <tr>\n",
       "      <th>6</th>\n",
       "      <td>70</td>\n",
       "      <td>0</td>\n",
       "      <td>43</td>\n",
       "      <td>50</td>\n",
       "      <td>44</td>\n",
       "      <td>4</td>\n",
       "      <td>77</td>\n",
       "      <td>10</td>\n",
       "      <td>35</td>\n",
       "      <td>47</td>\n",
       "    </tr>\n",
       "    <tr>\n",
       "      <th>7</th>\n",
       "      <td>60</td>\n",
       "      <td>83</td>\n",
       "      <td>16</td>\n",
       "      <td>13</td>\n",
       "      <td>1</td>\n",
       "      <td>60</td>\n",
       "      <td>87</td>\n",
       "      <td>49</td>\n",
       "      <td>43</td>\n",
       "      <td>57</td>\n",
       "    </tr>\n",
       "    <tr>\n",
       "      <th>8</th>\n",
       "      <td>95</td>\n",
       "      <td>54</td>\n",
       "      <td>35</td>\n",
       "      <td>56</td>\n",
       "      <td>53</td>\n",
       "      <td>38</td>\n",
       "      <td>66</td>\n",
       "      <td>17</td>\n",
       "      <td>33</td>\n",
       "      <td>51</td>\n",
       "    </tr>\n",
       "    <tr>\n",
       "      <th>9</th>\n",
       "      <td>60</td>\n",
       "      <td>26</td>\n",
       "      <td>75</td>\n",
       "      <td>63</td>\n",
       "      <td>61</td>\n",
       "      <td>12</td>\n",
       "      <td>72</td>\n",
       "      <td>46</td>\n",
       "      <td>96</td>\n",
       "      <td>12</td>\n",
       "    </tr>\n",
       "  </tbody>\n",
       "</table>\n",
       "</div>"
      ],
      "text/plain": [
       "    0   1   2   3   4   5   6   7   8   9\n",
       "0  75  68  44   5  73  84  50  99  80  11\n",
       "1  79  43  40  30  91  61   3  27  48  93\n",
       "2  84  50  75  83  23  57  67  70  44  21\n",
       "3  71  62  76  91  49  22  13  51  13  27\n",
       "4   1  66  80  89  42  93  45  71  16  51\n",
       "5  87  32  79  33  72   2  22  80  55  15\n",
       "6  70   0  43  50  44   4  77  10  35  47\n",
       "7  60  83  16  13   1  60  87  49  43  57\n",
       "8  95  54  35  56  53  38  66  17  33  51\n",
       "9  60  26  75  63  61  12  72  46  96  12"
      ]
     },
     "metadata": {},
     "output_type": "display_data"
    }
   ],
   "source": [
    "# Création d'une matrice de flottants, de taille 3x3 et ayant des valeurs comprises entre 0 et 10 :\n",
    "ex_float_3x3 = pd.DataFrame(random_matrix('float', 3, 0,10))\n",
    "display(ex_float_3x3)\n",
    "\n",
    "# Création d'une matrice d'entiers, de taille 10x10 et ayant des valeurs comprises entre 0 et 100 :\n",
    "ex_int_10x10 = pd.DataFrame(random_matrix('int', 10, 0,100))\n",
    "display(ex_int_10x10)"
   ]
  },
  {
   "cell_type": "markdown",
   "metadata": {},
   "source": [
    "## Création de la classe Node "
   ]
  },
  {
   "cell_type": "markdown",
   "metadata": {},
   "source": [
    "On crée une classe Node pour modéliser un sommet du graphe de résolution de problème. Un objet de cette classe possède comme attribut la liste des affectations partielles, l'estimation g et la valeur de la fonction d'évaluation f pour ce noeud."
   ]
  },
  {
   "cell_type": "code",
   "execution_count": 8,
   "metadata": {},
   "outputs": [],
   "source": [
    "class Node:\n",
    "    \"\"\"\n",
    "    Un objet de la classe Node modélise un sommet du graphe de résolution de problème.\n",
    "        \n",
    "    Paramètres\n",
    "    ----------\n",
    "    assignment_list : list\n",
    "        Affectation partielle : liste contenant les affectations déjà effectuées.\n",
    "    estim_h : float ou int\n",
    "        Estimation de la quantité h ; par défaut, ce paramètre vaut l'infini.\n",
    "    estim_f : float ou int\n",
    "        Estimation de la fonction d'évaluation f ; par défaut, ce paramètre vaut l'infini.\n",
    "        f(n) = g(n) + h(n), avec h l'heuristique choisie.\n",
    "        \n",
    "    Retourne\n",
    "    --------\n",
    "    Un nouveau sommet/noeud du graphe de résolution de problème\n",
    "    \n",
    "    \"\"\"\n",
    "\n",
    "    def __init__(self, assignment_list, estim_g = math.inf, estim_f = math.inf):\n",
    "        \"\"\"\n",
    "        Constructeur de la classe Node.\n",
    "        \n",
    "        \"\"\"\n",
    "        self.assignment_list = assignment_list  # affectation partielle : liste des affectations pour n_aff agents\n",
    "        self.estim_g = estim_g                  # estimation de la quantité g\n",
    "        self.estim_f = estim_f                  # estimation de la fonction d'évaluation f"
   ]
  },
  {
   "cell_type": "markdown",
   "metadata": {},
   "source": [
    "Par exemple, pour le noeud :"
   ]
  },
  {
   "cell_type": "code",
   "execution_count": 9,
   "metadata": {},
   "outputs": [],
   "source": [
    "ex_Node = Node([[1,2],[3,4]])"
   ]
  },
  {
   "cell_type": "markdown",
   "metadata": {},
   "source": [
    "La liste des affectations partielles est :  \n",
    "* agent 1 affecté au poste 2 ;\n",
    "* agent 3 affecté au poste 4.\n"
   ]
  },
  {
   "cell_type": "markdown",
   "metadata": {},
   "source": [
    "## Implémentation des heuristiques : "
   ]
  },
  {
   "cell_type": "markdown",
   "metadata": {},
   "source": [
    "Note : \n",
    "Pour chaque heuristique $h_i(n)$, on ajoute un paramètre de test test_hi qui vaut False par défaut. Lorsque cette variable vaut True, on imprime les affichages de test permettant de vérifier le fonctionnement de la fonction heuristique choisie."
   ]
  },
  {
   "cell_type": "markdown",
   "metadata": {},
   "source": [
    "### Implémentation de l'heuristique $h_1(n)$ : nombre d'affectations restantes"
   ]
  },
  {
   "cell_type": "markdown",
   "metadata": {},
   "source": [
    "Le nombre d'affectations restantes se calcule en soustrayant le nombre d'agents déjà affectés au le nombre total d'agents à affecter.\n",
    "* Le nombre total d'agents à affecter est donné par la taille de la matrice des coûts ;\n",
    "* Le nombre d'agents affectés est donné par la taille de la liste d'affectation partielle du noeud (node.assignment_list)."
   ]
  },
  {
   "cell_type": "code",
   "execution_count": 10,
   "metadata": {},
   "outputs": [],
   "source": [
    "def nb_assignments_left(node,cost_matrix, test_h1 = False):\n",
    "    \"\"\"\n",
    "    Cette fonction calcule l'heuristique estim_h d'un sommet en respectant la règle suivante : \n",
    "    estim_h = nombre d'affectations restantes.\n",
    "         \n",
    "    Paramètres\n",
    "    ----------\n",
    "    node : node\n",
    "        Noeud pour lequel on veut calculer l'heuristique.\n",
    "    cost_matrix : list\n",
    "        Matrice des coûts d'affectation.\n",
    "\n",
    "    Retourne\n",
    "    ----------\n",
    "    estim_h : float ou int\n",
    "        L'heuristique calculée pour le noeud passé en paramètre.\n",
    "        \n",
    "    \"\"\"\n",
    "    estim_h = (len(cost_matrix)-len(node.assignment_list))\n",
    "    if test_h1 : print(\">> Final heuristic :\", len(cost_matrix) ,\"-\", len(node.assignment_list), \"=\", estim_h)\n",
    "    return estim_h\n"
   ]
  },
  {
   "cell_type": "markdown",
   "metadata": {},
   "source": [
    "<u>Test</u>  \n",
    "Calcul d'heuristique pour des noeuds particuliers, avec la matrice de test:"
   ]
  },
  {
   "cell_type": "code",
   "execution_count": 11,
   "metadata": {},
   "outputs": [
    {
     "name": "stdout",
     "output_type": "stream",
     "text": [
      "Noeud 1 :\n",
      ">> Final heuristic : 3 - 1 = 2\n",
      "\n",
      "Noeud 2 (noeud final):\n",
      ">> Final heuristic : 3 - 3 = 0\n"
     ]
    },
    {
     "data": {
      "text/plain": [
       "0"
      ]
     },
     "execution_count": 11,
     "metadata": {},
     "output_type": "execute_result"
    }
   ],
   "source": [
    "print(\"Noeud 1 :\")\n",
    "nb_assignments_left(Node([[0,1]]), m_test, True)\n",
    "\n",
    "print(\"\\nNoeud 2 (noeud final):\")\n",
    "nb_assignments_left(Node([[0,1],[1,0],[2,2]]), m_test, True)"
   ]
  },
  {
   "cell_type": "markdown",
   "metadata": {},
   "source": [
    "### Implémentation de l'heuristique $h_2(n)$ : coût minimum"
   ]
  },
  {
   "cell_type": "markdown",
   "metadata": {},
   "source": [
    "La fonction suivante ne prend pas directement en paramètre le noeud étudié, mais deux listes que l'on a généré grâce aux informations contenues dans la liste des affectations du noeud :\n",
    "* la liste des numéros des agents déjà affectés ;\n",
    "* la liste des numéros des postes déjà affectés.\n",
    "\n",
    "\n",
    "Pour obtenir le minimum des coûts restants, on va travailler sur les élements de la matrice des coûts pour lesquels l'agent et le poste correspondants n'appartiennent pas aux 2 listes passées en paramètre. Parmi les élements restants, on retourne la valeur minimale.\n",
    "\n",
    "Cependant, on ne pas calculer un minimum lorsque la matrice des coûts restants est vide : cela correspond au cas où le noeud étudié est un sommet but. Or, une des caractéristiques d'un sommet but est que la taille de sa liste des affectations est égale à la taille de la matrice des coûts : en effet, tous les agents et postes ont été affectés. Il faut donc vérifier que cette condition n'est pas satisfaite avant de calculer le minimum. Dans le cas où le noeud étudié est un sommet but, l'heuristique (coût d'un chemin optimal pour atteindre le noeud final) vaut donc zéro."
   ]
  },
  {
   "cell_type": "code",
   "execution_count": 12,
   "metadata": {},
   "outputs": [],
   "source": [
    "def min_costs_left(cost_matrix, assigned_agents, assigned_jobs, test_h2 = False):\n",
    "    \"\"\"\n",
    "    Cette fonction calcule l'heuristique estim_h d'un sommet en respectant la règle suivante : \n",
    "    estim_h = minimum des coûts restants\n",
    "    \n",
    "    Paramètres\n",
    "    ----------\n",
    "    cost_matrix : list\n",
    "        Matrice des coûts d'affectation.\n",
    "    assigned_agents : list\n",
    "        Liste contenant les numéros des agents déjà affectés.\n",
    "    assigned jobs : list\n",
    "        Liste contenant les numéros des postes déjà affectés.\n",
    "        \n",
    "    Retourne\n",
    "    ----------\n",
    "    estim_h : float ou int\n",
    "        L'heuristique calculée.\n",
    "        \n",
    "    \"\"\"\n",
    "\n",
    "    N = len(cost_matrix)\n",
    "    \n",
    "    \n",
    "    if len(assigned_agents) != N and len(assigned_jobs) != N :\n",
    "        min_cost = math.inf # Coût minimal pour la ligne n°agent, initialisé à +infini.\n",
    "        for agent in range(N): # pour tous les agents\n",
    "            if agent not in assigned_agents:\n",
    "                for job in range(N):\n",
    "                    if job not in assigned_jobs:\n",
    "                        min_cost = min(min_cost, cost_matrix[agent][job]) # met à jour le coût minimal par ligne                    \n",
    "        estim_h = min_cost # ajoute ce coût à la quantité estim_h\n",
    "    else:\n",
    "        estim_h = 0\n",
    "\n",
    "    if test_h2 :\n",
    "        print(\">> Final heuristic :\", estim_h)\n",
    "        \n",
    "    return estim_h"
   ]
  },
  {
   "cell_type": "markdown",
   "metadata": {},
   "source": [
    "<u>Test</u>  \n",
    "Calcul d'heuristique pour des noeuds particuliers, avec la matrice de test:"
   ]
  },
  {
   "cell_type": "code",
   "execution_count": 13,
   "metadata": {},
   "outputs": [
    {
     "data": {
      "text/html": [
       "<div>\n",
       "<style scoped>\n",
       "    .dataframe tbody tr th:only-of-type {\n",
       "        vertical-align: middle;\n",
       "    }\n",
       "\n",
       "    .dataframe tbody tr th {\n",
       "        vertical-align: top;\n",
       "    }\n",
       "\n",
       "    .dataframe thead th {\n",
       "        text-align: right;\n",
       "    }\n",
       "</style>\n",
       "<table border=\"1\" class=\"dataframe\">\n",
       "  <thead>\n",
       "    <tr style=\"text-align: right;\">\n",
       "      <th></th>\n",
       "      <th>0</th>\n",
       "      <th>1</th>\n",
       "      <th>2</th>\n",
       "    </tr>\n",
       "  </thead>\n",
       "  <tbody>\n",
       "    <tr>\n",
       "      <th>0</th>\n",
       "      <td>7</td>\n",
       "      <td>8</td>\n",
       "      <td>10</td>\n",
       "    </tr>\n",
       "    <tr>\n",
       "      <th>1</th>\n",
       "      <td>20</td>\n",
       "      <td>5</td>\n",
       "      <td>3</td>\n",
       "    </tr>\n",
       "    <tr>\n",
       "      <th>2</th>\n",
       "      <td>6</td>\n",
       "      <td>4</td>\n",
       "      <td>2</td>\n",
       "    </tr>\n",
       "  </tbody>\n",
       "</table>\n",
       "</div>"
      ],
      "text/plain": [
       "    0  1   2\n",
       "0   7  8  10\n",
       "1  20  5   3\n",
       "2   6  4   2"
      ]
     },
     "metadata": {},
     "output_type": "display_data"
    },
    {
     "name": "stdout",
     "output_type": "stream",
     "text": [
      "Noeud 1 :\n",
      ">> Final heuristic : 2\n",
      "\n",
      "Noeud 2 (noeud final):\n",
      ">> Final heuristic : 0\n"
     ]
    },
    {
     "data": {
      "text/plain": [
       "0"
      ]
     },
     "execution_count": 13,
     "metadata": {},
     "output_type": "execute_result"
    }
   ],
   "source": [
    "display(pd.DataFrame(m_test))\n",
    "print(\"Noeud 1 :\")\n",
    "min_costs_left(m_test,[0],[1], True)\n",
    "\n",
    "print(\"\\nNoeud 2 (noeud final):\")\n",
    "min_costs_left(m_test,[0,1,2],[0,1,2], True)"
   ]
  },
  {
   "cell_type": "markdown",
   "metadata": {},
   "source": [
    "### Heuristique $h_3(n)$ : somme des coûts minimum (lignes)"
   ]
  },
  {
   "cell_type": "markdown",
   "metadata": {},
   "source": [
    "La fonction min_by_row, qui permet de calculer la somme des coûts minimum par ligne, parcourt la matrice des coûts restants \"de gauche à droite\" et calcule pour chaque ligne le coût minimum. Ce minimum est incrémenté à une variable qui, après avoir parcouru toute la matrice, constitue l'heuristique du noeud étudié."
   ]
  },
  {
   "cell_type": "code",
   "execution_count": 14,
   "metadata": {},
   "outputs": [],
   "source": [
    "def min_by_row(cost_matrix, assigned_agents, assigned_jobs, test_h3 = False): \n",
    "    \"\"\"\n",
    "    Cette fonction calcule l'heuristique estim_h d'un sommet en respectant la règle suivante : \n",
    "    estim_h = coût minimum par ligne/agent.\n",
    "\n",
    "    \n",
    "    Paramètres\n",
    "    ----------\n",
    "    cost_matrix : list\n",
    "        Matrice des coûts d'affectation.\n",
    "    assigned_agents : list\n",
    "        Liste contenant les numéros des agents déjà affectés.\n",
    "    assigned jobs : list\n",
    "        Liste contenant les numéros des postes déjà affectés.\n",
    "        \n",
    "    Retourne\n",
    "    ----------\n",
    "    estim_h : float ou int\n",
    "        L'heuristique calculée.\n",
    "        \n",
    "    \"\"\"\n",
    "    N = len(cost_matrix)\n",
    "    estim_h = 0\n",
    "    \n",
    "    # On calcule le minimum pour TOUS les agents n'ayant pas encore été affectés car h(n) distance estimée entre le noeud\n",
    "    # intermédiaire étudié et un sommet but.\n",
    "    \n",
    "    for agent in range(N): # pour tous les agents\n",
    "        if agent not in assigned_agents:\n",
    "            min_cost = math.inf # Coût minimal pour la ligne n°agent, initialisé à +infini.\n",
    "            for job in range(N):\n",
    "                if job not in assigned_jobs:\n",
    "                    min_cost = min(min_cost, cost_matrix[agent][job]) # met à jour le coût minimal par ligne\n",
    "            estim_h += min_cost # ajoute ce coût à la quantité estim_h\n",
    "            if test_h3 : print(\"Assignment for agent n°\", agent, \": minimum cost = \", min_cost)\n",
    "        else :\n",
    "            if test_h3 : print(\"Agent n°\", agent, \" has already been assigned to a job.\")\n",
    "    if test_h3 : print(\"\\n>> Final heuristic :\", estim_h)\n",
    "    return estim_h"
   ]
  },
  {
   "cell_type": "markdown",
   "metadata": {},
   "source": [
    "<u>Test</u>  \n",
    "Calcul d'heuristique pour des noeuds particuliers, avec la matrice de test :"
   ]
  },
  {
   "cell_type": "code",
   "execution_count": 15,
   "metadata": {},
   "outputs": [
    {
     "data": {
      "text/html": [
       "<div>\n",
       "<style scoped>\n",
       "    .dataframe tbody tr th:only-of-type {\n",
       "        vertical-align: middle;\n",
       "    }\n",
       "\n",
       "    .dataframe tbody tr th {\n",
       "        vertical-align: top;\n",
       "    }\n",
       "\n",
       "    .dataframe thead th {\n",
       "        text-align: right;\n",
       "    }\n",
       "</style>\n",
       "<table border=\"1\" class=\"dataframe\">\n",
       "  <thead>\n",
       "    <tr style=\"text-align: right;\">\n",
       "      <th></th>\n",
       "      <th>0</th>\n",
       "      <th>1</th>\n",
       "      <th>2</th>\n",
       "    </tr>\n",
       "  </thead>\n",
       "  <tbody>\n",
       "    <tr>\n",
       "      <th>0</th>\n",
       "      <td>7</td>\n",
       "      <td>8</td>\n",
       "      <td>10</td>\n",
       "    </tr>\n",
       "    <tr>\n",
       "      <th>1</th>\n",
       "      <td>20</td>\n",
       "      <td>5</td>\n",
       "      <td>3</td>\n",
       "    </tr>\n",
       "    <tr>\n",
       "      <th>2</th>\n",
       "      <td>6</td>\n",
       "      <td>4</td>\n",
       "      <td>2</td>\n",
       "    </tr>\n",
       "  </tbody>\n",
       "</table>\n",
       "</div>"
      ],
      "text/plain": [
       "    0  1   2\n",
       "0   7  8  10\n",
       "1  20  5   3\n",
       "2   6  4   2"
      ]
     },
     "metadata": {},
     "output_type": "display_data"
    },
    {
     "name": "stdout",
     "output_type": "stream",
     "text": [
      "Noeud 1 :\n",
      "Agent n° 0  has already been assigned to a job.\n",
      "Assignment for agent n° 1 : minimum cost =  3\n",
      "Assignment for agent n° 2 : minimum cost =  2\n",
      "\n",
      ">> Final heuristic : 5\n",
      "\n",
      "Noeud 2 (noeud final):\n",
      "Agent n° 0  has already been assigned to a job.\n",
      "Agent n° 1  has already been assigned to a job.\n",
      "Agent n° 2  has already been assigned to a job.\n",
      "\n",
      ">> Final heuristic : 0\n"
     ]
    },
    {
     "data": {
      "text/plain": [
       "0"
      ]
     },
     "execution_count": 15,
     "metadata": {},
     "output_type": "execute_result"
    }
   ],
   "source": [
    "display(pd.DataFrame(m_test))\n",
    "print(\"Noeud 1 :\")\n",
    "min_by_row(m_test,[0],[1], True)\n",
    "\n",
    "print(\"\\nNoeud 2 (noeud final):\")\n",
    "min_by_row(m_test,[0,1,2],[0,1,2], True)"
   ]
  },
  {
   "cell_type": "markdown",
   "metadata": {},
   "source": [
    "### Heuristique $h_4(n)$ : somme des coûts minimum (colonnes)"
   ]
  },
  {
   "cell_type": "markdown",
   "metadata": {},
   "source": [
    "La fonction permettant de calculer la somme des coûts minimum par colonne suit la même logique d'implémentation que son équivalent par ligne. Cepandant, on parcoura ici la matrice des coûts restants non pas de gauche à droite mais de bas en haut, de telle sorte à calculer le minimum pour chaque colonne."
   ]
  },
  {
   "cell_type": "code",
   "execution_count": 16,
   "metadata": {},
   "outputs": [],
   "source": [
    "def min_by_column(cost_matrix, assigned_agents, assigned_jobs, test_h4 = False): \n",
    "    \"\"\"\n",
    "    Cette fonction calcule l'heuristique estim_h d'un sommet en respectant la règle suivante : \n",
    "    estim_h = coût minimum par colonne/poste.\n",
    "    \n",
    "    Paramètres\n",
    "    ----------\n",
    "    cost_matrix : list\n",
    "        Matrice des coûts d'affectation.\n",
    "    assigned_agents : list\n",
    "        Liste contenant les numéros des agents déjà affectés.\n",
    "    assigned jobs : list\n",
    "        Liste contenant les numéros des postes déjà affectés.\n",
    "        \n",
    "    Retourne\n",
    "    ----------\n",
    "    estim_h : float ou int\n",
    "        L'heuristique calculée.\n",
    "        \n",
    "    \"\"\"\n",
    "    N = len(cost_matrix)\n",
    "    estim_h = 0\n",
    "\n",
    "    # On calcule le minimum pour TOUS les agents n'ayant pas encore été affectés car h(n) distance estimée entre le noeud\n",
    "    # intermédiaire étudié et un sommet but.\n",
    "    \n",
    "    for job in range(N): # pour tous les postes\n",
    "        if job not in assigned_jobs:\n",
    "            min_cost = math.inf # Coût minimal pour la colonne n°job, initialisé à +infini.\n",
    "            for agent in range(N):\n",
    "                if agent not in assigned_agents:\n",
    "                    min_cost = min(min_cost, cost_matrix[agent][job]) # met à jour le coût minimal par colonne\n",
    "            estim_h += min_cost # ajoute ce coût à la quantité estim_h\n",
    "            if test_h4 : print(\"Assignment for job n°\", job, \": minimum cost = \", min_cost)\n",
    "        else :\n",
    "            if test_h4 : print(\"Job n°\", job, \" has already been assigned to an agent.\")\n",
    "    if test_h4 : print(\"\\n>> Final heuristic :\", estim_h)\n",
    "    return estim_h"
   ]
  },
  {
   "cell_type": "markdown",
   "metadata": {},
   "source": [
    "<u>Test</u>  \n",
    "Calcul d'heuristique pour des noeuds particuliers, avec la matrice de test :"
   ]
  },
  {
   "cell_type": "code",
   "execution_count": 17,
   "metadata": {},
   "outputs": [
    {
     "data": {
      "text/html": [
       "<div>\n",
       "<style scoped>\n",
       "    .dataframe tbody tr th:only-of-type {\n",
       "        vertical-align: middle;\n",
       "    }\n",
       "\n",
       "    .dataframe tbody tr th {\n",
       "        vertical-align: top;\n",
       "    }\n",
       "\n",
       "    .dataframe thead th {\n",
       "        text-align: right;\n",
       "    }\n",
       "</style>\n",
       "<table border=\"1\" class=\"dataframe\">\n",
       "  <thead>\n",
       "    <tr style=\"text-align: right;\">\n",
       "      <th></th>\n",
       "      <th>0</th>\n",
       "      <th>1</th>\n",
       "      <th>2</th>\n",
       "    </tr>\n",
       "  </thead>\n",
       "  <tbody>\n",
       "    <tr>\n",
       "      <th>0</th>\n",
       "      <td>7</td>\n",
       "      <td>8</td>\n",
       "      <td>10</td>\n",
       "    </tr>\n",
       "    <tr>\n",
       "      <th>1</th>\n",
       "      <td>20</td>\n",
       "      <td>5</td>\n",
       "      <td>3</td>\n",
       "    </tr>\n",
       "    <tr>\n",
       "      <th>2</th>\n",
       "      <td>6</td>\n",
       "      <td>4</td>\n",
       "      <td>2</td>\n",
       "    </tr>\n",
       "  </tbody>\n",
       "</table>\n",
       "</div>"
      ],
      "text/plain": [
       "    0  1   2\n",
       "0   7  8  10\n",
       "1  20  5   3\n",
       "2   6  4   2"
      ]
     },
     "metadata": {},
     "output_type": "display_data"
    },
    {
     "name": "stdout",
     "output_type": "stream",
     "text": [
      "Noeud 1 :\n",
      "Assignment for job n° 0 : minimum cost =  6\n",
      "Job n° 1  has already been assigned to an agent.\n",
      "Assignment for job n° 2 : minimum cost =  2\n",
      "\n",
      ">> Final heuristic : 8\n",
      "\n",
      "Noeud 2 (noeud final):\n",
      "Job n° 0  has already been assigned to an agent.\n",
      "Job n° 1  has already been assigned to an agent.\n",
      "Job n° 2  has already been assigned to an agent.\n",
      "\n",
      ">> Final heuristic : 0\n"
     ]
    },
    {
     "data": {
      "text/plain": [
       "0"
      ]
     },
     "execution_count": 17,
     "metadata": {},
     "output_type": "execute_result"
    }
   ],
   "source": [
    "display(pd.DataFrame(m_test))\n",
    "print(\"Noeud 1 :\")\n",
    "min_by_column(m_test,[0],[1], True)\n",
    "\n",
    "print(\"\\nNoeud 2 (noeud final):\")\n",
    "min_by_column(m_test,[0,1,2],[0,1,2], True)"
   ]
  },
  {
   "cell_type": "markdown",
   "metadata": {},
   "source": [
    "On constate bien que les valeurs des heuristiques obtenues pour les heuristiques h3 et h4 peuvent être différentes pour un même noeud."
   ]
  },
  {
   "cell_type": "markdown",
   "metadata": {},
   "source": [
    "### Heuristique $h_5(n)$ : meilleure estimation de la somme des coûts minimum (lignes et colonnes)"
   ]
  },
  {
   "cell_type": "markdown",
   "metadata": {},
   "source": [
    "La fonction max_line_column, qui retourne la meilleure estimation de la somme des coûts minimum, appelle simplement les fonctions min_by_line() et min_by_column puis utilise la fonction max() pour estimer le maximum entre les deux heuristiques calculées.  \n",
    "\n",
    "Remarque :  \n",
    "Au niveau de l'implémentation, nous n'avons pas besoin de passer en paramètre une copie des listes assigned_agents et assigned_jobs car les fonctions min_by_line() et min_by_column() ne modifient pas ces listes. Sinon, il aurait fallu passer des copies de ces listes (avec \"list(assigned_agents)\" et \"list(assigned_jobs)\") à min_by_line, de telle sorte à laisser ces deux listes intactes lors de l'appel de min_by_column."
   ]
  },
  {
   "cell_type": "code",
   "execution_count": 18,
   "metadata": {},
   "outputs": [],
   "source": [
    "def max_line_column(cost_matrix, assigned_agents, assigned_jobs, test_h5 = False):\n",
    "    \"\"\"\n",
    "    Cette fonction calcule l'heuristique estim_h d'un sommet en respectant la règle suivante : \n",
    "    estim_h = maximum entre le coût minimum par agent/ligne (h3) et le coût minimum par poste/colonne (h4).\n",
    "    On prend le maximum pour se rapprocher au mieux de h*(n), l'heuristique optimale.\n",
    "    En effet, on a : h3(n) < h4(n) < h*(n) ou h4(n) < h3(n) < h*(n)\n",
    "    \n",
    "    Paramètres\n",
    "    ----------\n",
    "    cost_matrix : list\n",
    "        Matrice des coûts d'affectation.\n",
    "    assigned_agents : list\n",
    "        Liste contenant les numéros des agents déjà affectés.\n",
    "    assigned jobs : list\n",
    "        Liste contenant les numéros des postes déjà affectés.\n",
    "        \n",
    "    Retourne\n",
    "    ----------\n",
    "    estim_h : float ou int\n",
    "        L'heuristique calculée.\n",
    "        \n",
    "    \"\"\"\n",
    "    if test_h5: \n",
    "        print(\"\\nWe check that lists of assigned agents and assigned jobs are not modified between the 2 heuristics calls :\\n\")\n",
    "        print(\"Beginning :\\n  assigned_agents :\", assigned_agents, \"\\n  assigned_jobs   :\",assigned_jobs, '\\n')\n",
    "        \n",
    "    estim_h_line   = min_by_row(cost_matrix, assigned_agents, assigned_jobs)   # exécution de l'heuristique minimum par ligne\n",
    "    if test_h5: print(\"After calling min_by_row :\\n  assigned_agents :\", assigned_agents, \"\\n  assigned_jobs   :\",assigned_jobs, '\\n')\n",
    "        \n",
    "    estim_h_column = min_by_column(cost_matrix, assigned_agents, assigned_jobs) # exécution de l'heuristique minimum par colonne\n",
    "    if test_h5: print(\"After calling min_by_column :\\n  assigned_agents :\", assigned_agents, \"\\n  assigned_jobs   :\",assigned_jobs, '\\n')\n",
    "    \n",
    "    estim_h = max(estim_h_line, estim_h_column) # On prend le maximum entre les 2 heuristiques calculées.\n",
    "    if test_h5: \n",
    "        print(\"-----------------------------------------\\n\")\n",
    "        print(\"Value of heuristic :\\n  Minimum by line   :\", estim_h_line, \"\\n  Minimum by column :\", estim_h_column)\n",
    "        print(\"\\nHeuristic chosen = Maximum(\", estim_h_line, \",\", estim_h_column,\") = \", estim_h)\n",
    "        print(\"\\n>> Final heuristic :\", estim_h)\n",
    "        \n",
    "    return estim_h\n"
   ]
  },
  {
   "cell_type": "markdown",
   "metadata": {},
   "source": [
    "<u>Test</u>  \n",
    "Calcul d'heuristique pour des noeuds particuliers, avec la matrice de test :"
   ]
  },
  {
   "cell_type": "code",
   "execution_count": 19,
   "metadata": {},
   "outputs": [
    {
     "data": {
      "text/html": [
       "<div>\n",
       "<style scoped>\n",
       "    .dataframe tbody tr th:only-of-type {\n",
       "        vertical-align: middle;\n",
       "    }\n",
       "\n",
       "    .dataframe tbody tr th {\n",
       "        vertical-align: top;\n",
       "    }\n",
       "\n",
       "    .dataframe thead th {\n",
       "        text-align: right;\n",
       "    }\n",
       "</style>\n",
       "<table border=\"1\" class=\"dataframe\">\n",
       "  <thead>\n",
       "    <tr style=\"text-align: right;\">\n",
       "      <th></th>\n",
       "      <th>0</th>\n",
       "      <th>1</th>\n",
       "      <th>2</th>\n",
       "    </tr>\n",
       "  </thead>\n",
       "  <tbody>\n",
       "    <tr>\n",
       "      <th>0</th>\n",
       "      <td>7</td>\n",
       "      <td>8</td>\n",
       "      <td>10</td>\n",
       "    </tr>\n",
       "    <tr>\n",
       "      <th>1</th>\n",
       "      <td>20</td>\n",
       "      <td>5</td>\n",
       "      <td>3</td>\n",
       "    </tr>\n",
       "    <tr>\n",
       "      <th>2</th>\n",
       "      <td>6</td>\n",
       "      <td>4</td>\n",
       "      <td>2</td>\n",
       "    </tr>\n",
       "  </tbody>\n",
       "</table>\n",
       "</div>"
      ],
      "text/plain": [
       "    0  1   2\n",
       "0   7  8  10\n",
       "1  20  5   3\n",
       "2   6  4   2"
      ]
     },
     "metadata": {},
     "output_type": "display_data"
    },
    {
     "name": "stdout",
     "output_type": "stream",
     "text": [
      "Noeud 1 :\n",
      "\n",
      "We check that lists of assigned agents and assigned jobs are not modified between the 2 heuristics calls :\n",
      "\n",
      "Beginning :\n",
      "  assigned_agents : [0] \n",
      "  assigned_jobs   : [1] \n",
      "\n",
      "After calling min_by_row :\n",
      "  assigned_agents : [0] \n",
      "  assigned_jobs   : [1] \n",
      "\n",
      "After calling min_by_column :\n",
      "  assigned_agents : [0] \n",
      "  assigned_jobs   : [1] \n",
      "\n",
      "-----------------------------------------\n",
      "\n",
      "Value of heuristic :\n",
      "  Minimum by line   : 5 \n",
      "  Minimum by column : 8\n",
      "\n",
      "Heuristic chosen = Maximum( 5 , 8 ) =  8\n",
      "\n",
      ">> Final heuristic : 8\n",
      "\n",
      "=========================================================================\n",
      "\n",
      "Noeud 2 (noeud final):\n",
      "\n",
      "We check that lists of assigned agents and assigned jobs are not modified between the 2 heuristics calls :\n",
      "\n",
      "Beginning :\n",
      "  assigned_agents : [0, 1, 2] \n",
      "  assigned_jobs   : [0, 1, 2] \n",
      "\n",
      "After calling min_by_row :\n",
      "  assigned_agents : [0, 1, 2] \n",
      "  assigned_jobs   : [0, 1, 2] \n",
      "\n",
      "After calling min_by_column :\n",
      "  assigned_agents : [0, 1, 2] \n",
      "  assigned_jobs   : [0, 1, 2] \n",
      "\n",
      "-----------------------------------------\n",
      "\n",
      "Value of heuristic :\n",
      "  Minimum by line   : 0 \n",
      "  Minimum by column : 0\n",
      "\n",
      "Heuristic chosen = Maximum( 0 , 0 ) =  0\n",
      "\n",
      ">> Final heuristic : 0\n"
     ]
    },
    {
     "data": {
      "text/plain": [
       "0"
      ]
     },
     "execution_count": 19,
     "metadata": {},
     "output_type": "execute_result"
    }
   ],
   "source": [
    "display(pd.DataFrame(m_test))\n",
    "print(\"Noeud 1 :\")\n",
    "max_line_column(m_test,[0],[1], True)\n",
    "print(\"\\n=========================================================================\\n\")\n",
    "print(\"Noeud 2 (noeud final):\")\n",
    "max_line_column(m_test,[0,1,2],[0,1,2], True)"
   ]
  },
  {
   "cell_type": "markdown",
   "metadata": {},
   "source": [
    "## Calcul de la fonction d'estimation f  : "
   ]
  },
  {
   "cell_type": "markdown",
   "metadata": {},
   "source": [
    "### Fonction d'estimation de la quantité h (heuristique)"
   ]
  },
  {
   "cell_type": "markdown",
   "metadata": {},
   "source": [
    "On rappelle que pour un noeud n :\n",
    "$$f(n) = g(n) + h(n)$$"
   ]
  },
  {
   "cell_type": "code",
   "execution_count": 20,
   "metadata": {},
   "outputs": [],
   "source": [
    "def compute_h(node, cost_matrix, heuristic, assigned_agents, assigned_jobs, test_cpt_h = False):\n",
    "    \"\"\"\n",
    "    La fonction compute_h calcule l'heuristique estim_h pour le noeud passé en paramètre.\n",
    "    L'heuristique correspond au coût d'un chemin optimal, du noeud passé en paramètre à un noeud final.\n",
    "        \n",
    "    Paramètres\n",
    "    ----------\n",
    "    node : node\n",
    "        Noeud pour lequel on veut calculer l'heuristique.\n",
    "    cost_matrix : list\n",
    "        Matrice des coûts d'affectation.\n",
    "    heuristic : string\n",
    "        L'heuristique choisie.\n",
    "    assigned_agents : list\n",
    "        Liste contenant les numéros des agents déjà affectés pour le noeud passé en paramètre.\n",
    "    assigned jobs : list\n",
    "        Liste contenant les numéros des postes déjà affectés pour le noeud passé en paramètre.\n",
    "        \n",
    "        \n",
    "    Retourne\n",
    "    ----------\n",
    "    estim_h : int ou float\n",
    "        L'heuristique du noeud passé en paramètre.\n",
    "    \n",
    "    \"\"\"\n",
    "        \n",
    "    # Calcul de h(n), depend de l'heuristique :\n",
    "    \n",
    "    estim_h = math.inf         # initialisation de l'heuristique\n",
    "    \n",
    "    if heuristic == \"null\":      # Heuristique nulle\n",
    "        estim_h = 0\n",
    " \n",
    "    elif heuristic == \"nb_assignments_left\":    # Nombre d'affectations restantes\n",
    "        estim_h = nb_assignments_left(node,cost_matrix,test_cpt_h)\n",
    "    \n",
    "    elif heuristic == \"min_by_row\":             # Minimum des lignes restantes\n",
    "        estim_h = min_by_row(cost_matrix, assigned_agents, assigned_jobs,test_cpt_h)\n",
    "    \n",
    "    elif heuristic == \"min_by_column\":          # Minimum des colonnes restantes\n",
    "        estim_h = min_by_column(cost_matrix, assigned_agents, assigned_jobs,test_cpt_h)\n",
    "\n",
    "    elif heuristic == \"max_line_column\":        # Maximum de l'heuristique obtenue entre  h3 et h4\n",
    "        estim_h = max_line_column(cost_matrix, assigned_agents, assigned_jobs,test_cpt_h)\n",
    "        \n",
    "    elif heuristic == \"min_costs_left\":         # Coût minimum parmi les coûts restants\n",
    "        estim_h = min_costs_left(cost_matrix, assigned_agents, assigned_jobs,test_cpt_h)\n",
    "    elif heuristic == \"min_costs_left2\":        # Coût minimum parmi les coûts restants\n",
    "        estim_h = min_costs_left2(cost_matrix, assigned_agents, assigned_jobs,test_cpt_h)\n",
    "    else :\n",
    "        print(\"Error : please specify a correct heuristic name.\")\n",
    "        \n",
    "    return estim_h"
   ]
  },
  {
   "cell_type": "markdown",
   "metadata": {},
   "source": [
    "### Fonction d'estimation de la quantité g"
   ]
  },
  {
   "cell_type": "code",
   "execution_count": 21,
   "metadata": {},
   "outputs": [],
   "source": [
    "def compute_g(node, cost_matrix):\n",
    "    \"\"\"\n",
    "    La fonction compute_g calcule la quantité g pour le noeud passé en paramètre.\n",
    "    L'heuristique correspond au coût d'un chemin optimal, du noeud de départ au noeud passé en paramètre.\n",
    "        \n",
    "    Paramètres\n",
    "    ----------\n",
    "     node : node\n",
    "        Noeud pour lequel on veut calculer l'heuristique.\n",
    "     cost_matrix : list\n",
    "        Matrice des coûts d'affectation.\n",
    "            \n",
    "    Retourne \n",
    "    ----------\n",
    "    assigned_agents : list\n",
    "        Liste contenant les numéros des agents déjà affectés pour le noeud passé en paramètre.\n",
    "    assigned_jobs : list\n",
    "        Liste contenant les numéros des postes déjà affectés pour le noeud passé en paramètre.\n",
    "        \n",
    "    \"\"\"\n",
    "    \n",
    "    assigned_agents = [] # listes des agents déjà affectés\n",
    "    assigned_jobs   = [] # listes des postes déjà affectés\n",
    "    node.estim_g = 0     # initialisation de la quantité g à 0\n",
    "    \n",
    "    \n",
    "    # Calcul de g(n) : la quantité h correspond au coût du chemin pour aller du noeud initial (pour lequel assignment_list\n",
    "    # est vide) jusqu'au noeud passé en paramètre de la fonction compute_h.\n",
    "    \n",
    "    # On remplit les listes assigned_agents et assigned_jobs et calcule la quantité g.\n",
    "    for assignment in node.assignment_list:\n",
    "        agent = assignment[0] \n",
    "        job   = assignment[1]\n",
    "        assigned_agents.append(agent)\n",
    "        assigned_jobs.append(job)\n",
    "        \n",
    "        node.estim_g += cost_matrix[agent][job] # Pour chaque affectation contenue dans assignment_list, on ajoute son coût à estim_g.\n",
    "        \n",
    "    return assigned_agents, assigned_jobs"
   ]
  },
  {
   "cell_type": "markdown",
   "metadata": {},
   "source": [
    "### Fonction d'estimation de la fonction d'évaluation"
   ]
  },
  {
   "cell_type": "code",
   "execution_count": 22,
   "metadata": {},
   "outputs": [],
   "source": [
    "def compute_f(node, cost_matrix, heuristic, test_cpt_f = False):\n",
    "    \"\"\"\n",
    "    La fonction compute_f calcule la fonction d'évaluation f pour le noeud passé en paramètre.\n",
    "    Cette fonction estime le coût d'un chemin optimal du noeud de départ à un sommet but passant par node (noeud passé en paramètre)\n",
    "    On a f(node) = g(node) + h(node)\n",
    "        \n",
    "    Paramètres\n",
    "    ----------\n",
    "    node : node\n",
    "        Noeud pour lequel on veut calculer l'heuristique.\n",
    "    cost_matrix : list\n",
    "        Matrice des coûts d'affectation.\n",
    "    heuristic : string\n",
    "        L'heuristique choisie.\n",
    "        \n",
    "    \"\"\"\n",
    "    assigned_agents, assigned_jobs = compute_g(node, cost_matrix) # calcul de la quantité g\n",
    "    estim_h = compute_h(node, cost_matrix, heuristic, assigned_agents, assigned_jobs,test_cpt_f) # calcul de la quantité h\n",
    "    \n",
    "    node.estim_f = node.estim_g + estim_h  # f(node) = g(node) + h(node)\n",
    "    return"
   ]
  },
  {
   "cell_type": "markdown",
   "metadata": {},
   "source": [
    "Fonction *extract_first_open* qui permet de trouver le noeud minimisant la fonction d'évaluation *estim_f*."
   ]
  },
  {
   "cell_type": "code",
   "execution_count": 23,
   "metadata": {},
   "outputs": [],
   "source": [
    "def extract_first_open(opened_list):\n",
    "    \"\"\"\n",
    "    La fonction extract_first_open sélectionne dans la liste des ouverts passée en paramètre (opened_list)\n",
    "    un noeud qui minimise la fonction d'évaluation estim_f. Ce noeud est ensuite retiré de la liste puis \n",
    "    retourné par la fonction.\n",
    "    \n",
    "    Paramètres\n",
    "    ----------\n",
    "    opened_list : list\n",
    "        La liste des noeuds ouverts.\n",
    "        \n",
    "    Retourne\n",
    "    ----------\n",
    "    optimal_node : node\n",
    "        Le noeud optimal qui minimise la quantité estim_f.\n",
    "        \n",
    "    \"\"\"\n",
    "    \n",
    "    # dictionnaire associant le noeud (clé) et sa quantité estim_f (valeur)\n",
    "    dictionary = {node:node.estim_f for node in opened_list} \n",
    "    \n",
    "    optimal_node = min(dictionary, key = dictionary.get) # on récupère le noeud pour lequel estim_f est minimal\n",
    "    opened_list.remove(optimal_node)\n",
    "    \n",
    "    return optimal_node"
   ]
  },
  {
   "cell_type": "markdown",
   "metadata": {},
   "source": [
    "Fonction *develop_node* qui comme son nom l'indique permet de développer un noeud passé en paramètre, c'est-à-dire retourner la liste de ses noeuds successeurs."
   ]
  },
  {
   "cell_type": "code",
   "execution_count": 24,
   "metadata": {},
   "outputs": [],
   "source": [
    "def develop_node(node, cost_matrix):\n",
    "    \"\"\"\n",
    "    La fonction develop_node construit la liste des noeuds successeurs du noeud passé en paramètre dans\n",
    "    le graphe de résolution de problème.\n",
    "    \n",
    "    Paramètres\n",
    "    ----------\n",
    "    node : node\n",
    "        Le noeud pour lequel on veut retourner la liste des noeuds successeurs.\n",
    "    cost_matrix : list\n",
    "        Matrice des coûts d'affectation.\n",
    "        \n",
    "    Retourne\n",
    "    ----------\n",
    "    successors : list\n",
    "        La liste contenant les noeuds successeurs du noeud passé en paramètre.\n",
    "        \n",
    "    \"\"\"\n",
    "    \n",
    "    # On mémorise les postes qui ont déjà été affectés\n",
    "    assigned_jobs = [assignment[1] for assignment in node.assignment_list]\n",
    "\n",
    "    N = len(cost_matrix)\n",
    "    agent_to_assign = len(node.assignment_list) # On veut affecter un poste à l'agent i\n",
    "    successors = [] # liste contenant les noeuds successeurs au noeud passé en paramètre\n",
    "    \n",
    "    for job in range(N) : # pour tous les postes\n",
    "        if job not in assigned_jobs:\n",
    "            new_node_assignment_list = list(node.assignment_list)  # liste des affectations déjà réalisées\n",
    "            new_node_assignment_list.append((agent_to_assign, job)) # ajoute affectation possible\n",
    "            new_node = Node(new_node_assignment_list)\n",
    "            successors.append(new_node)\n",
    "            \n",
    "    return successors"
   ]
  },
  {
   "cell_type": "markdown",
   "metadata": {},
   "source": [
    "Fonction *a_star* qui applique l'algorithme A\\* dans le cas du problème de l'affectation."
   ]
  },
  {
   "cell_type": "code",
   "execution_count": 25,
   "metadata": {},
   "outputs": [],
   "source": [
    "def a_star(cost_matrix, heuristic, test_a_star = False):\n",
    "    \"\"\"\n",
    "    La fonction a_star exécute l'algorithme A-Star pour le problème de l'affectation.\n",
    "    \n",
    "    Paramètres\n",
    "    ----------\n",
    "    cost_matrix : list\n",
    "        Matrice des coûts d'affectation, donnée du problème.\n",
    "    heuristic : string\n",
    "        L'heuristique choisie\n",
    "        \n",
    "    Retourne\n",
    "    ----------\n",
    "    node : node\n",
    "        Un sommet but avec un coût d'affectation global minimal.\n",
    "        Un sommet but modélise une solution où tous les agents ont été affectés à un poste.\n",
    "    \"\"\"\n",
    "    nb_iterations = 0\n",
    "    N = len(cost_matrix)\n",
    "    opened_list = [] # liste des noeuds pas encore étudiés et qui pourraient faire partie de la solution optimale\n",
    "    closed_list = [] # liste des noeuds déjà étudiés et qui pourraient faire partie de la solution optimale\n",
    "    \n",
    "    source = Node([]) # Noeud de départ : aucun agent affecté --> liste des affectations vide\n",
    "    GRP = {None:source}    # GRP : le graphe de recherche un élement de cette liste \n",
    "    opened_list.append(source)\n",
    "    \n",
    "    while (opened_list): \n",
    "        node = extract_first_open(opened_list) # On réordonne la liste des ouverts et extrait le premier élément (celui ayant estim_f le plus faible)\n",
    "        closed_list.append(node)               # On met le sommet étudié node dans fermé.\n",
    "\n",
    "        if(len(node.assignment_list) != N): # Si node n'est pas un sommet but, continuer \n",
    "        #Si le nombre d'affectations est égal à la taille de la matrice, alors tous les agents ont été affectés --> le noeud est un sommet but.\n",
    "            successors = develop_node(node, cost_matrix) # retourne liste des noeuds successeurs\n",
    "            \n",
    "            for successor_node in successors:\n",
    "                compute_f(successor_node, cost_matrix,heuristic,test_a_star) # calcule heuristique des nouveaux noeuds\n",
    "                opened_list.append(successor_node) # met les nouveaux noeuds dans la liste des noeuds qui peuvent être étudiés\n",
    "                \n",
    "            GRP[node] = successors # mémorise la liste successors comme successeurs du noeud dans le GRP\n",
    "            nb_iterations += 1\n",
    "        else:\n",
    "            return node, GRP, nb_iterations\n",
    "    else:\n",
    "        return \"pas de solution\"\n"
   ]
  },
  {
   "cell_type": "markdown",
   "metadata": {},
   "source": [
    "# \\_\\_main\\_\\_ : test de l'algorithme A\\*\n",
    "***"
   ]
  },
  {
   "cell_type": "markdown",
   "metadata": {},
   "source": [
    "Dans cette partie nous facilitons les tests de l'algorithmes A\\*."
   ]
  },
  {
   "cell_type": "markdown",
   "metadata": {},
   "source": [
    "On définit des matrices de coûts :"
   ]
  },
  {
   "cell_type": "code",
   "execution_count": 26,
   "metadata": {},
   "outputs": [],
   "source": [
    "m_test1 = [[7,8,10],\n",
    "           [20,5,3],\n",
    "           [6,4,2]]\n",
    "\n",
    "m_test2 = [[1, 3, 5, 2],\n",
    "           [2, 4, 3, 10],\n",
    "           [7, 1, 8, 5],\n",
    "           [8, 8, 10, 1]]\n",
    "\n",
    "m_test3 =  [[5,10,15,1,14],\n",
    "            [3,15,10,18,32],\n",
    "            [2,5 ,8,7,3 ],\n",
    "            [9,10,13,3,2 ],\n",
    "            [4,5,7,17,9]]\n",
    "\n",
    "m_random = random_matrix('int', 3, 0, 10)"
   ]
  },
  {
   "cell_type": "markdown",
   "metadata": {},
   "source": [
    "Paramètres à modifier :"
   ]
  },
  {
   "cell_type": "code",
   "execution_count": 27,
   "metadata": {},
   "outputs": [
    {
     "name": "stdout",
     "output_type": "stream",
     "text": [
      "Matrice de coûts :\n"
     ]
    },
    {
     "data": {
      "text/html": [
       "<div>\n",
       "<style scoped>\n",
       "    .dataframe tbody tr th:only-of-type {\n",
       "        vertical-align: middle;\n",
       "    }\n",
       "\n",
       "    .dataframe tbody tr th {\n",
       "        vertical-align: top;\n",
       "    }\n",
       "\n",
       "    .dataframe thead th {\n",
       "        text-align: right;\n",
       "    }\n",
       "</style>\n",
       "<table border=\"1\" class=\"dataframe\">\n",
       "  <thead>\n",
       "    <tr style=\"text-align: right;\">\n",
       "      <th></th>\n",
       "      <th>0</th>\n",
       "      <th>1</th>\n",
       "      <th>2</th>\n",
       "      <th>3</th>\n",
       "      <th>4</th>\n",
       "    </tr>\n",
       "  </thead>\n",
       "  <tbody>\n",
       "    <tr>\n",
       "      <th>0</th>\n",
       "      <td>5</td>\n",
       "      <td>10</td>\n",
       "      <td>15</td>\n",
       "      <td>1</td>\n",
       "      <td>14</td>\n",
       "    </tr>\n",
       "    <tr>\n",
       "      <th>1</th>\n",
       "      <td>3</td>\n",
       "      <td>15</td>\n",
       "      <td>10</td>\n",
       "      <td>18</td>\n",
       "      <td>32</td>\n",
       "    </tr>\n",
       "    <tr>\n",
       "      <th>2</th>\n",
       "      <td>2</td>\n",
       "      <td>5</td>\n",
       "      <td>8</td>\n",
       "      <td>7</td>\n",
       "      <td>3</td>\n",
       "    </tr>\n",
       "    <tr>\n",
       "      <th>3</th>\n",
       "      <td>9</td>\n",
       "      <td>10</td>\n",
       "      <td>13</td>\n",
       "      <td>3</td>\n",
       "      <td>2</td>\n",
       "    </tr>\n",
       "    <tr>\n",
       "      <th>4</th>\n",
       "      <td>4</td>\n",
       "      <td>5</td>\n",
       "      <td>7</td>\n",
       "      <td>17</td>\n",
       "      <td>9</td>\n",
       "    </tr>\n",
       "  </tbody>\n",
       "</table>\n",
       "</div>"
      ],
      "text/plain": [
       "   0   1   2   3   4\n",
       "0  5  10  15   1  14\n",
       "1  3  15  10  18  32\n",
       "2  2   5   8   7   3\n",
       "3  9  10  13   3   2\n",
       "4  4   5   7  17   9"
      ]
     },
     "metadata": {},
     "output_type": "display_data"
    },
    {
     "name": "stdout",
     "output_type": "stream",
     "text": [
      "Heuristique choisie : nb_assignments_left \n",
      "\n",
      "Temps d'execution : 0.00046500000000015973 seconde(s) \n",
      "\n",
      "Chemin optimal :\n",
      "[(0, 3), (1, 0), (2, 1), (3, 4), (4, 2)] \n",
      "\n"
     ]
    },
    {
     "data": {
      "text/html": [
       "<style  type=\"text/css\" >\n",
       "    #T_216dbbca_4dbd_11e8_aba8_dca9047dd4d4row0_col3 {\n",
       "            background-color:  #A7E52C;\n",
       "        }    #T_216dbbca_4dbd_11e8_aba8_dca9047dd4d4row1_col0 {\n",
       "            background-color:  #A7E52C;\n",
       "        }    #T_216dbbca_4dbd_11e8_aba8_dca9047dd4d4row2_col1 {\n",
       "            background-color:  #A7E52C;\n",
       "        }    #T_216dbbca_4dbd_11e8_aba8_dca9047dd4d4row3_col4 {\n",
       "            background-color:  #A7E52C;\n",
       "        }    #T_216dbbca_4dbd_11e8_aba8_dca9047dd4d4row4_col2 {\n",
       "            background-color:  #A7E52C;\n",
       "        }</style>  \n",
       "<table id=\"T_216dbbca_4dbd_11e8_aba8_dca9047dd4d4\" > \n",
       "<thead>    <tr> \n",
       "        <th class=\"blank level0\" ></th> \n",
       "        <th class=\"col_heading level0 col0\" >0</th> \n",
       "        <th class=\"col_heading level0 col1\" >1</th> \n",
       "        <th class=\"col_heading level0 col2\" >2</th> \n",
       "        <th class=\"col_heading level0 col3\" >3</th> \n",
       "        <th class=\"col_heading level0 col4\" >4</th> \n",
       "    </tr></thead> \n",
       "<tbody>    <tr> \n",
       "        <th id=\"T_216dbbca_4dbd_11e8_aba8_dca9047dd4d4level0_row0\" class=\"row_heading level0 row0\" >0</th> \n",
       "        <td id=\"T_216dbbca_4dbd_11e8_aba8_dca9047dd4d4row0_col0\" class=\"data row0 col0\" >5</td> \n",
       "        <td id=\"T_216dbbca_4dbd_11e8_aba8_dca9047dd4d4row0_col1\" class=\"data row0 col1\" >10</td> \n",
       "        <td id=\"T_216dbbca_4dbd_11e8_aba8_dca9047dd4d4row0_col2\" class=\"data row0 col2\" >15</td> \n",
       "        <td id=\"T_216dbbca_4dbd_11e8_aba8_dca9047dd4d4row0_col3\" class=\"data row0 col3\" >1</td> \n",
       "        <td id=\"T_216dbbca_4dbd_11e8_aba8_dca9047dd4d4row0_col4\" class=\"data row0 col4\" >14</td> \n",
       "    </tr>    <tr> \n",
       "        <th id=\"T_216dbbca_4dbd_11e8_aba8_dca9047dd4d4level0_row1\" class=\"row_heading level0 row1\" >1</th> \n",
       "        <td id=\"T_216dbbca_4dbd_11e8_aba8_dca9047dd4d4row1_col0\" class=\"data row1 col0\" >3</td> \n",
       "        <td id=\"T_216dbbca_4dbd_11e8_aba8_dca9047dd4d4row1_col1\" class=\"data row1 col1\" >15</td> \n",
       "        <td id=\"T_216dbbca_4dbd_11e8_aba8_dca9047dd4d4row1_col2\" class=\"data row1 col2\" >10</td> \n",
       "        <td id=\"T_216dbbca_4dbd_11e8_aba8_dca9047dd4d4row1_col3\" class=\"data row1 col3\" >18</td> \n",
       "        <td id=\"T_216dbbca_4dbd_11e8_aba8_dca9047dd4d4row1_col4\" class=\"data row1 col4\" >32</td> \n",
       "    </tr>    <tr> \n",
       "        <th id=\"T_216dbbca_4dbd_11e8_aba8_dca9047dd4d4level0_row2\" class=\"row_heading level0 row2\" >2</th> \n",
       "        <td id=\"T_216dbbca_4dbd_11e8_aba8_dca9047dd4d4row2_col0\" class=\"data row2 col0\" >2</td> \n",
       "        <td id=\"T_216dbbca_4dbd_11e8_aba8_dca9047dd4d4row2_col1\" class=\"data row2 col1\" >5</td> \n",
       "        <td id=\"T_216dbbca_4dbd_11e8_aba8_dca9047dd4d4row2_col2\" class=\"data row2 col2\" >8</td> \n",
       "        <td id=\"T_216dbbca_4dbd_11e8_aba8_dca9047dd4d4row2_col3\" class=\"data row2 col3\" >7</td> \n",
       "        <td id=\"T_216dbbca_4dbd_11e8_aba8_dca9047dd4d4row2_col4\" class=\"data row2 col4\" >3</td> \n",
       "    </tr>    <tr> \n",
       "        <th id=\"T_216dbbca_4dbd_11e8_aba8_dca9047dd4d4level0_row3\" class=\"row_heading level0 row3\" >3</th> \n",
       "        <td id=\"T_216dbbca_4dbd_11e8_aba8_dca9047dd4d4row3_col0\" class=\"data row3 col0\" >9</td> \n",
       "        <td id=\"T_216dbbca_4dbd_11e8_aba8_dca9047dd4d4row3_col1\" class=\"data row3 col1\" >10</td> \n",
       "        <td id=\"T_216dbbca_4dbd_11e8_aba8_dca9047dd4d4row3_col2\" class=\"data row3 col2\" >13</td> \n",
       "        <td id=\"T_216dbbca_4dbd_11e8_aba8_dca9047dd4d4row3_col3\" class=\"data row3 col3\" >3</td> \n",
       "        <td id=\"T_216dbbca_4dbd_11e8_aba8_dca9047dd4d4row3_col4\" class=\"data row3 col4\" >2</td> \n",
       "    </tr>    <tr> \n",
       "        <th id=\"T_216dbbca_4dbd_11e8_aba8_dca9047dd4d4level0_row4\" class=\"row_heading level0 row4\" >4</th> \n",
       "        <td id=\"T_216dbbca_4dbd_11e8_aba8_dca9047dd4d4row4_col0\" class=\"data row4 col0\" >4</td> \n",
       "        <td id=\"T_216dbbca_4dbd_11e8_aba8_dca9047dd4d4row4_col1\" class=\"data row4 col1\" >5</td> \n",
       "        <td id=\"T_216dbbca_4dbd_11e8_aba8_dca9047dd4d4row4_col2\" class=\"data row4 col2\" >7</td> \n",
       "        <td id=\"T_216dbbca_4dbd_11e8_aba8_dca9047dd4d4row4_col3\" class=\"data row4 col3\" >17</td> \n",
       "        <td id=\"T_216dbbca_4dbd_11e8_aba8_dca9047dd4d4row4_col4\" class=\"data row4 col4\" >9</td> \n",
       "    </tr></tbody> \n",
       "</table> "
      ],
      "text/plain": [
       "<pandas.io.formats.style.Styler at 0x1146a17b8>"
      ]
     },
     "metadata": {},
     "output_type": "display_data"
    },
    {
     "name": "stdout",
     "output_type": "stream",
     "text": [
      "Score total : 18\n"
     ]
    }
   ],
   "source": [
    "# choix de la matrice\n",
    "matrix = m_test3 # à modifier\n",
    "\n",
    "# choix de l'heuristique\n",
    "h0 = \"null\"\n",
    "h1 = \"nb_assignments_left\"\n",
    "h2 = \"min_costs_left\"\n",
    "h2p = \"min_costs_left2\"\n",
    "h3 = \"min_by_row\"\n",
    "h4 = \"min_by_column\"\n",
    "h5 = \"max_line_column\"\n",
    "heuristic = h1 # à modifier\n",
    "\n",
    "#----------------------------\n",
    "start_clock = time.clock()\n",
    "final_node, GRP,nb_iterations = a_star(matrix, heuristic)\n",
    "end_clock = time.clock()\n",
    "\n",
    "def color_matrix(matrix, assignment_list):\n",
    "    df = pd.DataFrame(matrix)\n",
    "    df_path = style_matrix(len(matrix), assignment_list)\n",
    "    return df.style.apply(lambda tab: df_path, axis=None)\n",
    "def style_matrix(n, assignment_list):\n",
    "    style = [['']*n for i in range(n)]\n",
    "    for i in range(0, len(assignment_list)):\n",
    "        style[i][assignment_list[i][1]] = 'background-color: #A7E52C'\n",
    "    return pd.DataFrame(style)\n",
    "\n",
    "print('Matrice de coûts :')\n",
    "display(pd.DataFrame(matrix))\n",
    "print('Heuristique choisie :', heuristic, '\\n')\n",
    "print('Temps d\\'execution :', end_clock-start_clock, 'seconde(s)', '\\n')\n",
    "print(\"Chemin optimal :\")\n",
    "print(final_node.assignment_list, '\\n')\n",
    "df_matrix_colored = color_matrix(matrix, final_node.assignment_list)\n",
    "display(df_matrix_colored)\n",
    "print('Score total :', final_node.estim_f)"
   ]
  },
  {
   "cell_type": "markdown",
   "metadata": {},
   "source": [
    "# Performances\n",
    "***"
   ]
  },
  {
   "cell_type": "markdown",
   "metadata": {},
   "source": [
    "Dans cette partie nous testons les performances de chaque heuristique.  \n",
    "On définit d'abord quelques fonctions utiles :"
   ]
  },
  {
   "cell_type": "markdown",
   "metadata": {},
   "source": [
    "Fonction *gen_test_matrices* qui retourne une liste de listes de matrices."
   ]
  },
  {
   "cell_type": "code",
   "execution_count": 28,
   "metadata": {},
   "outputs": [],
   "source": [
    "def gen_test_matrices(size_matrices, number_matrices, bottom_range, top_range):\n",
    "    \"\"\"\n",
    "        Génère une liste contenant des listes de matrices.\n",
    "    \"\"\"\n",
    "    matrices = [] # contient la liste des listes des matrices de même taille\n",
    "    for size in size_matrices: # pour chaque tailles de matrice\n",
    "        sub = []\n",
    "        for foo in range(0, number_matrices): # on génère autant de matrices de même taille qu'indiqué\n",
    "            sub.append(random_matrix('int', size, bottom_range, top_range))\n",
    "        matrices.append(sub)\n",
    "    return matrices"
   ]
  },
  {
   "cell_type": "markdown",
   "metadata": {},
   "source": [
    "Fonction *sort_by_size* qui ordonne les résultats par matrice pour une meilleure visualisation."
   ]
  },
  {
   "cell_type": "code",
   "execution_count": 29,
   "metadata": {},
   "outputs": [],
   "source": [
    "def sort_by_size(matrices_size, results):\n",
    "    \"\"\"\n",
    "        Ordonne les résultats par taille de matrice.\n",
    "    \"\"\"\n",
    "    matrices_size = sorted(matrices_size)\n",
    "    \n",
    "    results2 = []\n",
    "    for size in matrices_size:\n",
    "        for elt in results:\n",
    "            if elt[1] == size:\n",
    "                results2.append(elt)\n",
    "\n",
    "    df2 = pd.DataFrame(results2)\n",
    "    df2 = df2.rename(columns={0: \"heuristic\", \n",
    "                              1: \"matrix size\",\n",
    "                              2: \"time(s)\",\n",
    "                              3: \"Dev. nodes\",\n",
    "                              4: 'Dev. nodes/All nodes'})\n",
    "    return df2"
   ]
  },
  {
   "cell_type": "markdown",
   "metadata": {},
   "source": [
    "Fonction *test_performance* qui retourne un tableau contenant le résultat de l'analyse des heuristiques."
   ]
  },
  {
   "cell_type": "code",
   "execution_count": 30,
   "metadata": {},
   "outputs": [],
   "source": [
    "def test_performance(matrices, heuristics): \n",
    "    \"\"\"\n",
    "        Soit N la taille d'une matrice.\n",
    "        \n",
    "        Pour chaque heuristique:\n",
    "            Pour plusieurs matrices de taille N:\n",
    "                Executer l'heuristique\n",
    "                Mémoriser critères :\n",
    "                 - le temps d'exécution \n",
    "                 - le nombre de sommets ouverts (= developpés)\n",
    "                 - nb exécution/intération\n",
    "                 - Espace mémoire utilisé\n",
    "            -> faire moyenne de ces critères + pire cas et meilleur cas d'exécution\n",
    "            \n",
    "        évaluer \"à la main\" la complexité des algos\n",
    "        dépend caractéristiques environnement : CPU...\n",
    "    \"\"\"    \n",
    "    results = []\n",
    "    nb_digits = 6\n",
    "\n",
    "    \n",
    "    for h_i in heuristics :\n",
    "        for sub in matrices:\n",
    "            \n",
    "            mean = math.inf # moyenne\n",
    "            exec_time_list = []\n",
    "            nb_developed_nodes = []\n",
    "            matrix_size = len(sub[0])\n",
    "            \n",
    "            for matrix in sub:\n",
    "                start_clock = time.clock()\n",
    "                final_node, GRP,nb_iterations = a_star(matrix, h_i)\n",
    "                end_clock = time.clock()\n",
    "                        \n",
    "                exec_time_list.append(end_clock - start_clock)\n",
    "                nb_developed_nodes.append(nb_iterations)\n",
    "                \n",
    "            mean_time_exec = np.mean(exec_time_list)\n",
    "            mean_nb_developed_nodes = np.mean(nb_developed_nodes)\n",
    "            ratio_developed_nodes = mean_nb_developed_nodes/nodeGRP(len(sub[0]))\n",
    "            \n",
    "            results.append([h_i,matrix_size,round(mean_time_exec,nb_digits), \\\n",
    "                            mean_nb_developed_nodes, round(ratio_developed_nodes, nb_digits)])\n",
    "        \n",
    "    df = pd.DataFrame(results)\n",
    "    df = df.rename(columns={0: \"heuristic\", \n",
    "                            1: \"matrix size\",\n",
    "                            2: \"time(s)\",\n",
    "                            3: \"Dev. nodes\",\n",
    "                            4: 'Dev. nodes/All nodes'})\n",
    "    return results    "
   ]
  },
  {
   "cell_type": "markdown",
   "metadata": {},
   "source": [
    "## Paramètrage de l'analyse des performances"
   ]
  },
  {
   "cell_type": "markdown",
   "metadata": {},
   "source": [
    "Paramètrer ci-dessous l'analyse des performances des heuristiques :"
   ]
  },
  {
   "cell_type": "code",
   "execution_count": 31,
   "metadata": {},
   "outputs": [
    {
     "data": {
      "text/html": [
       "<div>\n",
       "<style scoped>\n",
       "    .dataframe tbody tr th:only-of-type {\n",
       "        vertical-align: middle;\n",
       "    }\n",
       "\n",
       "    .dataframe tbody tr th {\n",
       "        vertical-align: top;\n",
       "    }\n",
       "\n",
       "    .dataframe thead th {\n",
       "        text-align: right;\n",
       "    }\n",
       "</style>\n",
       "<table border=\"1\" class=\"dataframe\">\n",
       "  <thead>\n",
       "    <tr style=\"text-align: right;\">\n",
       "      <th></th>\n",
       "      <th>heuristic</th>\n",
       "      <th>matrix size</th>\n",
       "      <th>time(s)</th>\n",
       "      <th>Dev. nodes</th>\n",
       "      <th>Dev. nodes/All nodes</th>\n",
       "    </tr>\n",
       "  </thead>\n",
       "  <tbody>\n",
       "    <tr>\n",
       "      <th>0</th>\n",
       "      <td>null</td>\n",
       "      <td>3</td>\n",
       "      <td>0.000089</td>\n",
       "      <td>8.0</td>\n",
       "      <td>0.500000</td>\n",
       "    </tr>\n",
       "    <tr>\n",
       "      <th>1</th>\n",
       "      <td>nb_assignments_left</td>\n",
       "      <td>3</td>\n",
       "      <td>0.002457</td>\n",
       "      <td>8.0</td>\n",
       "      <td>0.500000</td>\n",
       "    </tr>\n",
       "    <tr>\n",
       "      <th>2</th>\n",
       "      <td>min_costs_left</td>\n",
       "      <td>3</td>\n",
       "      <td>0.001028</td>\n",
       "      <td>5.0</td>\n",
       "      <td>0.312500</td>\n",
       "    </tr>\n",
       "    <tr>\n",
       "      <th>3</th>\n",
       "      <td>min_by_row</td>\n",
       "      <td>3</td>\n",
       "      <td>0.002158</td>\n",
       "      <td>3.0</td>\n",
       "      <td>0.187500</td>\n",
       "    </tr>\n",
       "    <tr>\n",
       "      <th>4</th>\n",
       "      <td>min_by_column</td>\n",
       "      <td>3</td>\n",
       "      <td>0.000160</td>\n",
       "      <td>4.0</td>\n",
       "      <td>0.250000</td>\n",
       "    </tr>\n",
       "    <tr>\n",
       "      <th>5</th>\n",
       "      <td>max_line_column</td>\n",
       "      <td>3</td>\n",
       "      <td>0.000137</td>\n",
       "      <td>3.0</td>\n",
       "      <td>0.187500</td>\n",
       "    </tr>\n",
       "    <tr>\n",
       "      <th>6</th>\n",
       "      <td>null</td>\n",
       "      <td>5</td>\n",
       "      <td>0.000755</td>\n",
       "      <td>40.5</td>\n",
       "      <td>0.124233</td>\n",
       "    </tr>\n",
       "    <tr>\n",
       "      <th>7</th>\n",
       "      <td>nb_assignments_left</td>\n",
       "      <td>5</td>\n",
       "      <td>0.000531</td>\n",
       "      <td>29.5</td>\n",
       "      <td>0.090491</td>\n",
       "    </tr>\n",
       "    <tr>\n",
       "      <th>8</th>\n",
       "      <td>min_costs_left</td>\n",
       "      <td>5</td>\n",
       "      <td>0.001302</td>\n",
       "      <td>30.0</td>\n",
       "      <td>0.092025</td>\n",
       "    </tr>\n",
       "    <tr>\n",
       "      <th>9</th>\n",
       "      <td>min_by_row</td>\n",
       "      <td>5</td>\n",
       "      <td>0.000331</td>\n",
       "      <td>7.5</td>\n",
       "      <td>0.023006</td>\n",
       "    </tr>\n",
       "    <tr>\n",
       "      <th>10</th>\n",
       "      <td>min_by_column</td>\n",
       "      <td>5</td>\n",
       "      <td>0.000360</td>\n",
       "      <td>9.0</td>\n",
       "      <td>0.027607</td>\n",
       "    </tr>\n",
       "    <tr>\n",
       "      <th>11</th>\n",
       "      <td>max_line_column</td>\n",
       "      <td>5</td>\n",
       "      <td>0.000442</td>\n",
       "      <td>6.0</td>\n",
       "      <td>0.018405</td>\n",
       "    </tr>\n",
       "    <tr>\n",
       "      <th>12</th>\n",
       "      <td>null</td>\n",
       "      <td>10</td>\n",
       "      <td>6.795221</td>\n",
       "      <td>3528.0</td>\n",
       "      <td>0.000358</td>\n",
       "    </tr>\n",
       "    <tr>\n",
       "      <th>13</th>\n",
       "      <td>nb_assignments_left</td>\n",
       "      <td>10</td>\n",
       "      <td>1.097248</td>\n",
       "      <td>1383.0</td>\n",
       "      <td>0.000140</td>\n",
       "    </tr>\n",
       "    <tr>\n",
       "      <th>14</th>\n",
       "      <td>min_costs_left</td>\n",
       "      <td>10</td>\n",
       "      <td>5.915047</td>\n",
       "      <td>3104.0</td>\n",
       "      <td>0.000315</td>\n",
       "    </tr>\n",
       "    <tr>\n",
       "      <th>15</th>\n",
       "      <td>min_by_row</td>\n",
       "      <td>10</td>\n",
       "      <td>0.037892</td>\n",
       "      <td>149.5</td>\n",
       "      <td>0.000015</td>\n",
       "    </tr>\n",
       "    <tr>\n",
       "      <th>16</th>\n",
       "      <td>min_by_column</td>\n",
       "      <td>10</td>\n",
       "      <td>0.031135</td>\n",
       "      <td>133.5</td>\n",
       "      <td>0.000014</td>\n",
       "    </tr>\n",
       "    <tr>\n",
       "      <th>17</th>\n",
       "      <td>max_line_column</td>\n",
       "      <td>10</td>\n",
       "      <td>0.025904</td>\n",
       "      <td>68.0</td>\n",
       "      <td>0.000007</td>\n",
       "    </tr>\n",
       "  </tbody>\n",
       "</table>\n",
       "</div>"
      ],
      "text/plain": [
       "              heuristic  matrix size   time(s)  Dev. nodes  \\\n",
       "0                  null            3  0.000089         8.0   \n",
       "1   nb_assignments_left            3  0.002457         8.0   \n",
       "2        min_costs_left            3  0.001028         5.0   \n",
       "3            min_by_row            3  0.002158         3.0   \n",
       "4         min_by_column            3  0.000160         4.0   \n",
       "5       max_line_column            3  0.000137         3.0   \n",
       "6                  null            5  0.000755        40.5   \n",
       "7   nb_assignments_left            5  0.000531        29.5   \n",
       "8        min_costs_left            5  0.001302        30.0   \n",
       "9            min_by_row            5  0.000331         7.5   \n",
       "10        min_by_column            5  0.000360         9.0   \n",
       "11      max_line_column            5  0.000442         6.0   \n",
       "12                 null           10  6.795221      3528.0   \n",
       "13  nb_assignments_left           10  1.097248      1383.0   \n",
       "14       min_costs_left           10  5.915047      3104.0   \n",
       "15           min_by_row           10  0.037892       149.5   \n",
       "16        min_by_column           10  0.031135       133.5   \n",
       "17      max_line_column           10  0.025904        68.0   \n",
       "\n",
       "    Dev. nodes/All nodes  \n",
       "0               0.500000  \n",
       "1               0.500000  \n",
       "2               0.312500  \n",
       "3               0.187500  \n",
       "4               0.250000  \n",
       "5               0.187500  \n",
       "6               0.124233  \n",
       "7               0.090491  \n",
       "8               0.092025  \n",
       "9               0.023006  \n",
       "10              0.027607  \n",
       "11              0.018405  \n",
       "12              0.000358  \n",
       "13              0.000140  \n",
       "14              0.000315  \n",
       "15              0.000015  \n",
       "16              0.000014  \n",
       "17              0.000007  "
      ]
     },
     "metadata": {},
     "output_type": "display_data"
    }
   ],
   "source": [
    "# taille des matrices à tester\n",
    "size_matrices = (3, 5, 10)\n",
    "# valeur minimale des coûts\n",
    "bottom_range = 0\n",
    "# valeur maximale des coûts\n",
    "top_range = 20\n",
    "# nombre de matrices à tester pour une même taille\n",
    "number_matrices = 2\n",
    "# heuristiques à tester\n",
    "h0 = \"null\"\n",
    "h1 = \"nb_assignments_left\"\n",
    "h2 = \"min_costs_left\"\n",
    "h3 = \"min_by_row\"\n",
    "h4 = \"min_by_column\"\n",
    "h5 = \"max_line_column\"\n",
    "heuristics = [h0,h1,h2,h3,h4,h5]\n",
    "\n",
    "matrices = gen_test_matrices(size_matrices, number_matrices, bottom_range, top_range)\n",
    "results = test_performance(matrices, heuristics)\n",
    "results_ordered = sort_by_size(size_matrices, results)\n",
    "display(results_ordered)"
   ]
  },
  {
   "cell_type": "markdown",
   "metadata": {},
   "source": [
    "**Conclusion :**  \n",
    "On constate que pour un problème de taille relativement petit, utiliser des heuristiques peu performantes n'est pas déterminant ; les temps de calculs et le nombre de noeuds developpés varie peu d'une heuristique à une autre.\n",
    "\n",
    "Cependant, on se rend compte que pour des problèmes de taille plus grands, le temps de calcul et le nombre de noeuds developpés croit de façon très rapide pour les heuristiques les moins performantes (heuristique nulle), alors qu'il croit relativement lentement pour des heuristiques plus performantes (heuristique du maximum entre la somme des coûts minimum par ligne et par colonne).\n",
    "\n",
    "A partir d'un certain seuil, il devient alors primordial de choisir une heuristique performante."
   ]
  },
  {
   "cell_type": "markdown",
   "metadata": {},
   "source": [
    "# Bibliographie  \n",
    "***\n",
    "- Principes d'intelligence artificielle, Nils J.Nilsson\n",
    "- Cours et énoncé : https://perso.esiee.fr/~coupriem/PR3602/, Michel Couprie"
   ]
  }
 ],
 "metadata": {
  "kernelspec": {
   "display_name": "Python 3",
   "language": "python",
   "name": "python3"
  },
  "language_info": {
   "codemirror_mode": {
    "name": "ipython",
    "version": 3
   },
   "file_extension": ".py",
   "mimetype": "text/x-python",
   "name": "python",
   "nbconvert_exporter": "python",
   "pygments_lexer": "ipython3",
   "version": "3.6.4"
  }
 },
 "nbformat": 4,
 "nbformat_minor": 2
}
